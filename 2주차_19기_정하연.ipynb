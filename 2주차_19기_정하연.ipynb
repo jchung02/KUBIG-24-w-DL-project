{
 "cells": [
  {
   "cell_type": "code",
   "execution_count": 1,
   "metadata": {
    "colab": {
     "base_uri": "https://localhost:8080/"
    },
    "id": "jgwktzScmy60",
    "outputId": "7af4393c-b0e7-4693-de29-f1e6b07ee6e8",
    "scrolled": true
   },
   "outputs": [
    {
     "name": "stdout",
     "output_type": "stream",
     "text": [
      "Requirement already satisfied: matplotlib_inline in /Users/hayeon.c/miniconda3/lib/python3.11/site-packages (0.1.6)\n",
      "Requirement already satisfied: traitlets in /Users/hayeon.c/miniconda3/lib/python3.11/site-packages (from matplotlib_inline) (5.14.1)\n"
     ]
    }
   ],
   "source": [
    "!pip install matplotlib_inline"
   ]
  },
  {
   "cell_type": "code",
   "execution_count": 28,
   "metadata": {
    "colab": {
     "base_uri": "https://localhost:8080/"
    },
    "id": "roeo2LoIStIL",
    "outputId": "02e4dc85-0a1b-44c9-e4d8-852eff2b87a7"
   },
   "outputs": [
    {
     "name": "stdout",
     "output_type": "stream",
     "text": [
      "Requirement already satisfied: d2l in /Users/hayeon.c/miniconda3/lib/python3.11/site-packages (1.0.3)\n",
      "Requirement already satisfied: jupyter==1.0.0 in /Users/hayeon.c/miniconda3/lib/python3.11/site-packages (from d2l) (1.0.0)\n",
      "Requirement already satisfied: numpy==1.23.5 in /Users/hayeon.c/miniconda3/lib/python3.11/site-packages (from d2l) (1.23.5)\n",
      "Collecting matplotlib==3.7.2 (from d2l)\n",
      "  Using cached matplotlib-3.7.2-cp311-cp311-macosx_11_0_arm64.whl.metadata (5.6 kB)\n",
      "Requirement already satisfied: matplotlib-inline==0.1.6 in /Users/hayeon.c/miniconda3/lib/python3.11/site-packages (from d2l) (0.1.6)\n",
      "Requirement already satisfied: requests==2.31.0 in /Users/hayeon.c/miniconda3/lib/python3.11/site-packages (from d2l) (2.31.0)\n",
      "Requirement already satisfied: pandas==2.0.3 in /Users/hayeon.c/miniconda3/lib/python3.11/site-packages (from d2l) (2.0.3)\n",
      "Requirement already satisfied: scipy==1.10.1 in /Users/hayeon.c/miniconda3/lib/python3.11/site-packages (from d2l) (1.10.1)\n",
      "Requirement already satisfied: notebook in /Users/hayeon.c/miniconda3/lib/python3.11/site-packages (from jupyter==1.0.0->d2l) (7.0.6)\n",
      "Requirement already satisfied: qtconsole in /Users/hayeon.c/miniconda3/lib/python3.11/site-packages (from jupyter==1.0.0->d2l) (5.5.1)\n",
      "Requirement already satisfied: jupyter-console in /Users/hayeon.c/miniconda3/lib/python3.11/site-packages (from jupyter==1.0.0->d2l) (6.6.3)\n",
      "Requirement already satisfied: nbconvert in /Users/hayeon.c/miniconda3/lib/python3.11/site-packages (from jupyter==1.0.0->d2l) (7.14.1)\n",
      "Requirement already satisfied: ipykernel in /Users/hayeon.c/miniconda3/lib/python3.11/site-packages (from jupyter==1.0.0->d2l) (6.29.0)\n",
      "Requirement already satisfied: ipywidgets in /Users/hayeon.c/miniconda3/lib/python3.11/site-packages (from jupyter==1.0.0->d2l) (8.1.1)\n",
      "Requirement already satisfied: contourpy>=1.0.1 in /Users/hayeon.c/miniconda3/lib/python3.11/site-packages (from matplotlib==3.7.2->d2l) (1.2.0)\n",
      "Requirement already satisfied: cycler>=0.10 in /Users/hayeon.c/miniconda3/lib/python3.11/site-packages (from matplotlib==3.7.2->d2l) (0.12.1)\n",
      "Requirement already satisfied: fonttools>=4.22.0 in /Users/hayeon.c/miniconda3/lib/python3.11/site-packages (from matplotlib==3.7.2->d2l) (4.47.2)\n",
      "Requirement already satisfied: kiwisolver>=1.0.1 in /Users/hayeon.c/miniconda3/lib/python3.11/site-packages (from matplotlib==3.7.2->d2l) (1.4.5)\n",
      "Requirement already satisfied: packaging>=20.0 in /Users/hayeon.c/miniconda3/lib/python3.11/site-packages (from matplotlib==3.7.2->d2l) (23.1)\n",
      "Requirement already satisfied: pillow>=6.2.0 in /Users/hayeon.c/miniconda3/lib/python3.11/site-packages (from matplotlib==3.7.2->d2l) (10.0.1)\n",
      "Requirement already satisfied: pyparsing<3.1,>=2.3.1 in /Users/hayeon.c/miniconda3/lib/python3.11/site-packages (from matplotlib==3.7.2->d2l) (3.0.9)\n",
      "Requirement already satisfied: python-dateutil>=2.7 in /Users/hayeon.c/miniconda3/lib/python3.11/site-packages (from matplotlib==3.7.2->d2l) (2.8.2)\n",
      "Requirement already satisfied: traitlets in /Users/hayeon.c/miniconda3/lib/python3.11/site-packages (from matplotlib-inline==0.1.6->d2l) (5.14.1)\n",
      "Requirement already satisfied: pytz>=2020.1 in /Users/hayeon.c/miniconda3/lib/python3.11/site-packages (from pandas==2.0.3->d2l) (2023.3.post1)\n",
      "Requirement already satisfied: tzdata>=2022.1 in /Users/hayeon.c/miniconda3/lib/python3.11/site-packages (from pandas==2.0.3->d2l) (2023.4)\n",
      "Requirement already satisfied: charset-normalizer<4,>=2 in /Users/hayeon.c/miniconda3/lib/python3.11/site-packages (from requests==2.31.0->d2l) (2.0.4)\n",
      "Requirement already satisfied: idna<4,>=2.5 in /Users/hayeon.c/miniconda3/lib/python3.11/site-packages (from requests==2.31.0->d2l) (3.4)\n",
      "Requirement already satisfied: urllib3<3,>=1.21.1 in /Users/hayeon.c/miniconda3/lib/python3.11/site-packages (from requests==2.31.0->d2l) (1.26.18)\n",
      "Requirement already satisfied: certifi>=2017.4.17 in /Users/hayeon.c/miniconda3/lib/python3.11/site-packages (from requests==2.31.0->d2l) (2023.11.17)\n",
      "Requirement already satisfied: six>=1.5 in /Users/hayeon.c/miniconda3/lib/python3.11/site-packages (from python-dateutil>=2.7->matplotlib==3.7.2->d2l) (1.16.0)\n",
      "Requirement already satisfied: appnope in /Users/hayeon.c/miniconda3/lib/python3.11/site-packages (from ipykernel->jupyter==1.0.0->d2l) (0.1.3)\n",
      "Requirement already satisfied: comm>=0.1.1 in /Users/hayeon.c/miniconda3/lib/python3.11/site-packages (from ipykernel->jupyter==1.0.0->d2l) (0.2.1)\n",
      "Requirement already satisfied: debugpy>=1.6.5 in /Users/hayeon.c/miniconda3/lib/python3.11/site-packages (from ipykernel->jupyter==1.0.0->d2l) (1.8.0)\n",
      "Requirement already satisfied: ipython>=7.23.1 in /Users/hayeon.c/miniconda3/lib/python3.11/site-packages (from ipykernel->jupyter==1.0.0->d2l) (8.20.0)\n",
      "Requirement already satisfied: jupyter-client>=6.1.12 in /Users/hayeon.c/miniconda3/lib/python3.11/site-packages (from ipykernel->jupyter==1.0.0->d2l) (8.6.0)\n",
      "Requirement already satisfied: jupyter-core!=5.0.*,>=4.12 in /Users/hayeon.c/miniconda3/lib/python3.11/site-packages (from ipykernel->jupyter==1.0.0->d2l) (5.7.1)\n",
      "Requirement already satisfied: nest-asyncio in /Users/hayeon.c/miniconda3/lib/python3.11/site-packages (from ipykernel->jupyter==1.0.0->d2l) (1.5.9)\n",
      "Requirement already satisfied: psutil in /Users/hayeon.c/miniconda3/lib/python3.11/site-packages (from ipykernel->jupyter==1.0.0->d2l) (5.9.7)\n",
      "Requirement already satisfied: pyzmq>=24 in /Users/hayeon.c/miniconda3/lib/python3.11/site-packages (from ipykernel->jupyter==1.0.0->d2l) (25.1.2)\n",
      "Requirement already satisfied: tornado>=6.1 in /Users/hayeon.c/miniconda3/lib/python3.11/site-packages (from ipykernel->jupyter==1.0.0->d2l) (6.3.3)\n",
      "Requirement already satisfied: widgetsnbextension~=4.0.9 in /Users/hayeon.c/miniconda3/lib/python3.11/site-packages (from ipywidgets->jupyter==1.0.0->d2l) (4.0.9)\n",
      "Requirement already satisfied: jupyterlab-widgets~=3.0.9 in /Users/hayeon.c/miniconda3/lib/python3.11/site-packages (from ipywidgets->jupyter==1.0.0->d2l) (3.0.9)\n",
      "Requirement already satisfied: prompt-toolkit>=3.0.30 in /Users/hayeon.c/miniconda3/lib/python3.11/site-packages (from jupyter-console->jupyter==1.0.0->d2l) (3.0.43)\n",
      "Requirement already satisfied: pygments in /Users/hayeon.c/miniconda3/lib/python3.11/site-packages (from jupyter-console->jupyter==1.0.0->d2l) (2.17.2)\n",
      "Requirement already satisfied: beautifulsoup4 in /Users/hayeon.c/miniconda3/lib/python3.11/site-packages (from nbconvert->jupyter==1.0.0->d2l) (4.12.2)\n",
      "Requirement already satisfied: bleach!=5.0.0 in /Users/hayeon.c/miniconda3/lib/python3.11/site-packages (from nbconvert->jupyter==1.0.0->d2l) (6.1.0)\n",
      "Requirement already satisfied: defusedxml in /Users/hayeon.c/miniconda3/lib/python3.11/site-packages (from nbconvert->jupyter==1.0.0->d2l) (0.7.1)\n",
      "Requirement already satisfied: jinja2>=3.0 in /Users/hayeon.c/miniconda3/lib/python3.11/site-packages (from nbconvert->jupyter==1.0.0->d2l) (3.1.2)\n",
      "Requirement already satisfied: jupyterlab-pygments in /Users/hayeon.c/miniconda3/lib/python3.11/site-packages (from nbconvert->jupyter==1.0.0->d2l) (0.3.0)\n",
      "Requirement already satisfied: markupsafe>=2.0 in /Users/hayeon.c/miniconda3/lib/python3.11/site-packages (from nbconvert->jupyter==1.0.0->d2l) (2.1.3)\n",
      "Requirement already satisfied: mistune<4,>=2.0.3 in /Users/hayeon.c/miniconda3/lib/python3.11/site-packages (from nbconvert->jupyter==1.0.0->d2l) (3.0.2)\n",
      "Requirement already satisfied: nbclient>=0.5.0 in /Users/hayeon.c/miniconda3/lib/python3.11/site-packages (from nbconvert->jupyter==1.0.0->d2l) (0.9.0)\n",
      "Requirement already satisfied: nbformat>=5.7 in /Users/hayeon.c/miniconda3/lib/python3.11/site-packages (from nbconvert->jupyter==1.0.0->d2l) (5.9.2)\n",
      "Requirement already satisfied: pandocfilters>=1.4.1 in /Users/hayeon.c/miniconda3/lib/python3.11/site-packages (from nbconvert->jupyter==1.0.0->d2l) (1.5.0)\n",
      "Requirement already satisfied: tinycss2 in /Users/hayeon.c/miniconda3/lib/python3.11/site-packages (from nbconvert->jupyter==1.0.0->d2l) (1.2.1)\n",
      "Requirement already satisfied: jupyter-server<3,>=2.4.0 in /Users/hayeon.c/miniconda3/lib/python3.11/site-packages (from notebook->jupyter==1.0.0->d2l) (2.12.4)\n",
      "Requirement already satisfied: jupyterlab-server<3,>=2.22.1 in /Users/hayeon.c/miniconda3/lib/python3.11/site-packages (from notebook->jupyter==1.0.0->d2l) (2.25.2)\n",
      "Requirement already satisfied: jupyterlab<5,>=4.0.2 in /Users/hayeon.c/miniconda3/lib/python3.11/site-packages (from notebook->jupyter==1.0.0->d2l) (4.0.10)\n",
      "Requirement already satisfied: notebook-shim<0.3,>=0.2 in /Users/hayeon.c/miniconda3/lib/python3.11/site-packages (from notebook->jupyter==1.0.0->d2l) (0.2.3)\n",
      "Requirement already satisfied: qtpy>=2.4.0 in /Users/hayeon.c/miniconda3/lib/python3.11/site-packages (from qtconsole->jupyter==1.0.0->d2l) (2.4.1)\n",
      "Requirement already satisfied: webencodings in /Users/hayeon.c/miniconda3/lib/python3.11/site-packages (from bleach!=5.0.0->nbconvert->jupyter==1.0.0->d2l) (0.5.1)\n",
      "Requirement already satisfied: decorator in /Users/hayeon.c/miniconda3/lib/python3.11/site-packages (from ipython>=7.23.1->ipykernel->jupyter==1.0.0->d2l) (5.1.1)\n",
      "Requirement already satisfied: jedi>=0.16 in /Users/hayeon.c/miniconda3/lib/python3.11/site-packages (from ipython>=7.23.1->ipykernel->jupyter==1.0.0->d2l) (0.19.1)\n",
      "Requirement already satisfied: stack-data in /Users/hayeon.c/miniconda3/lib/python3.11/site-packages (from ipython>=7.23.1->ipykernel->jupyter==1.0.0->d2l) (0.6.3)\n",
      "Requirement already satisfied: pexpect>4.3 in /Users/hayeon.c/miniconda3/lib/python3.11/site-packages (from ipython>=7.23.1->ipykernel->jupyter==1.0.0->d2l) (4.9.0)\n",
      "Requirement already satisfied: platformdirs>=2.5 in /Users/hayeon.c/miniconda3/lib/python3.11/site-packages (from jupyter-core!=5.0.*,>=4.12->ipykernel->jupyter==1.0.0->d2l) (3.10.0)\n",
      "Requirement already satisfied: anyio>=3.1.0 in /Users/hayeon.c/miniconda3/lib/python3.11/site-packages (from jupyter-server<3,>=2.4.0->notebook->jupyter==1.0.0->d2l) (4.2.0)\n",
      "Requirement already satisfied: argon2-cffi in /Users/hayeon.c/miniconda3/lib/python3.11/site-packages (from jupyter-server<3,>=2.4.0->notebook->jupyter==1.0.0->d2l) (23.1.0)\n",
      "Requirement already satisfied: jupyter-events>=0.9.0 in /Users/hayeon.c/miniconda3/lib/python3.11/site-packages (from jupyter-server<3,>=2.4.0->notebook->jupyter==1.0.0->d2l) (0.9.0)\n",
      "Requirement already satisfied: jupyter-server-terminals in /Users/hayeon.c/miniconda3/lib/python3.11/site-packages (from jupyter-server<3,>=2.4.0->notebook->jupyter==1.0.0->d2l) (0.5.1)\n",
      "Requirement already satisfied: overrides in /Users/hayeon.c/miniconda3/lib/python3.11/site-packages (from jupyter-server<3,>=2.4.0->notebook->jupyter==1.0.0->d2l) (7.4.0)\n",
      "Requirement already satisfied: prometheus-client in /Users/hayeon.c/miniconda3/lib/python3.11/site-packages (from jupyter-server<3,>=2.4.0->notebook->jupyter==1.0.0->d2l) (0.19.0)\n",
      "Requirement already satisfied: send2trash>=1.8.2 in /Users/hayeon.c/miniconda3/lib/python3.11/site-packages (from jupyter-server<3,>=2.4.0->notebook->jupyter==1.0.0->d2l) (1.8.2)\n",
      "Requirement already satisfied: terminado>=0.8.3 in /Users/hayeon.c/miniconda3/lib/python3.11/site-packages (from jupyter-server<3,>=2.4.0->notebook->jupyter==1.0.0->d2l) (0.18.0)\n",
      "Requirement already satisfied: websocket-client in /Users/hayeon.c/miniconda3/lib/python3.11/site-packages (from jupyter-server<3,>=2.4.0->notebook->jupyter==1.0.0->d2l) (1.7.0)\n",
      "Requirement already satisfied: async-lru>=1.0.0 in /Users/hayeon.c/miniconda3/lib/python3.11/site-packages (from jupyterlab<5,>=4.0.2->notebook->jupyter==1.0.0->d2l) (2.0.4)\n",
      "Requirement already satisfied: jupyter-lsp>=2.0.0 in /Users/hayeon.c/miniconda3/lib/python3.11/site-packages (from jupyterlab<5,>=4.0.2->notebook->jupyter==1.0.0->d2l) (2.2.1)\n",
      "Requirement already satisfied: babel>=2.10 in /Users/hayeon.c/miniconda3/lib/python3.11/site-packages (from jupyterlab-server<3,>=2.22.1->notebook->jupyter==1.0.0->d2l) (2.14.0)\n",
      "Requirement already satisfied: json5>=0.9.0 in /Users/hayeon.c/miniconda3/lib/python3.11/site-packages (from jupyterlab-server<3,>=2.22.1->notebook->jupyter==1.0.0->d2l) (0.9.14)\n",
      "Requirement already satisfied: jsonschema>=4.18.0 in /Users/hayeon.c/miniconda3/lib/python3.11/site-packages (from jupyterlab-server<3,>=2.22.1->notebook->jupyter==1.0.0->d2l) (4.20.0)\n",
      "Requirement already satisfied: fastjsonschema in /Users/hayeon.c/miniconda3/lib/python3.11/site-packages (from nbformat>=5.7->nbconvert->jupyter==1.0.0->d2l) (2.19.1)\n",
      "Requirement already satisfied: wcwidth in /Users/hayeon.c/miniconda3/lib/python3.11/site-packages (from prompt-toolkit>=3.0.30->jupyter-console->jupyter==1.0.0->d2l) (0.2.13)\n",
      "Requirement already satisfied: soupsieve>1.2 in /Users/hayeon.c/miniconda3/lib/python3.11/site-packages (from beautifulsoup4->nbconvert->jupyter==1.0.0->d2l) (2.5)\n",
      "Requirement already satisfied: sniffio>=1.1 in /Users/hayeon.c/miniconda3/lib/python3.11/site-packages (from anyio>=3.1.0->jupyter-server<3,>=2.4.0->notebook->jupyter==1.0.0->d2l) (1.3.0)\n",
      "Requirement already satisfied: parso<0.9.0,>=0.8.3 in /Users/hayeon.c/miniconda3/lib/python3.11/site-packages (from jedi>=0.16->ipython>=7.23.1->ipykernel->jupyter==1.0.0->d2l) (0.8.3)\n",
      "Requirement already satisfied: attrs>=22.2.0 in /Users/hayeon.c/miniconda3/lib/python3.11/site-packages (from jsonschema>=4.18.0->jupyterlab-server<3,>=2.22.1->notebook->jupyter==1.0.0->d2l) (23.2.0)\n",
      "Requirement already satisfied: jsonschema-specifications>=2023.03.6 in /Users/hayeon.c/miniconda3/lib/python3.11/site-packages (from jsonschema>=4.18.0->jupyterlab-server<3,>=2.22.1->notebook->jupyter==1.0.0->d2l) (2023.12.1)\n",
      "Requirement already satisfied: referencing>=0.28.4 in /Users/hayeon.c/miniconda3/lib/python3.11/site-packages (from jsonschema>=4.18.0->jupyterlab-server<3,>=2.22.1->notebook->jupyter==1.0.0->d2l) (0.32.1)\n",
      "Requirement already satisfied: rpds-py>=0.7.1 in /Users/hayeon.c/miniconda3/lib/python3.11/site-packages (from jsonschema>=4.18.0->jupyterlab-server<3,>=2.22.1->notebook->jupyter==1.0.0->d2l) (0.17.1)\n",
      "Requirement already satisfied: python-json-logger>=2.0.4 in /Users/hayeon.c/miniconda3/lib/python3.11/site-packages (from jupyter-events>=0.9.0->jupyter-server<3,>=2.4.0->notebook->jupyter==1.0.0->d2l) (2.0.7)\n",
      "Requirement already satisfied: pyyaml>=5.3 in /Users/hayeon.c/miniconda3/lib/python3.11/site-packages (from jupyter-events>=0.9.0->jupyter-server<3,>=2.4.0->notebook->jupyter==1.0.0->d2l) (6.0.1)\n",
      "Requirement already satisfied: rfc3339-validator in /Users/hayeon.c/miniconda3/lib/python3.11/site-packages (from jupyter-events>=0.9.0->jupyter-server<3,>=2.4.0->notebook->jupyter==1.0.0->d2l) (0.1.4)\n",
      "Requirement already satisfied: rfc3986-validator>=0.1.1 in /Users/hayeon.c/miniconda3/lib/python3.11/site-packages (from jupyter-events>=0.9.0->jupyter-server<3,>=2.4.0->notebook->jupyter==1.0.0->d2l) (0.1.1)\n",
      "Requirement already satisfied: ptyprocess>=0.5 in /Users/hayeon.c/miniconda3/lib/python3.11/site-packages (from pexpect>4.3->ipython>=7.23.1->ipykernel->jupyter==1.0.0->d2l) (0.7.0)\n",
      "Requirement already satisfied: argon2-cffi-bindings in /Users/hayeon.c/miniconda3/lib/python3.11/site-packages (from argon2-cffi->jupyter-server<3,>=2.4.0->notebook->jupyter==1.0.0->d2l) (21.2.0)\n",
      "Requirement already satisfied: executing>=1.2.0 in /Users/hayeon.c/miniconda3/lib/python3.11/site-packages (from stack-data->ipython>=7.23.1->ipykernel->jupyter==1.0.0->d2l) (2.0.1)\n",
      "Requirement already satisfied: asttokens>=2.1.0 in /Users/hayeon.c/miniconda3/lib/python3.11/site-packages (from stack-data->ipython>=7.23.1->ipykernel->jupyter==1.0.0->d2l) (2.4.1)\n",
      "Requirement already satisfied: pure-eval in /Users/hayeon.c/miniconda3/lib/python3.11/site-packages (from stack-data->ipython>=7.23.1->ipykernel->jupyter==1.0.0->d2l) (0.2.2)\n",
      "Requirement already satisfied: fqdn in /Users/hayeon.c/miniconda3/lib/python3.11/site-packages (from jsonschema[format-nongpl]>=4.18.0->jupyter-events>=0.9.0->jupyter-server<3,>=2.4.0->notebook->jupyter==1.0.0->d2l) (1.5.1)\n",
      "Requirement already satisfied: isoduration in /Users/hayeon.c/miniconda3/lib/python3.11/site-packages (from jsonschema[format-nongpl]>=4.18.0->jupyter-events>=0.9.0->jupyter-server<3,>=2.4.0->notebook->jupyter==1.0.0->d2l) (20.11.0)\n",
      "Requirement already satisfied: jsonpointer>1.13 in /Users/hayeon.c/miniconda3/lib/python3.11/site-packages (from jsonschema[format-nongpl]>=4.18.0->jupyter-events>=0.9.0->jupyter-server<3,>=2.4.0->notebook->jupyter==1.0.0->d2l) (2.1)\n",
      "Requirement already satisfied: uri-template in /Users/hayeon.c/miniconda3/lib/python3.11/site-packages (from jsonschema[format-nongpl]>=4.18.0->jupyter-events>=0.9.0->jupyter-server<3,>=2.4.0->notebook->jupyter==1.0.0->d2l) (1.3.0)\n",
      "Requirement already satisfied: webcolors>=1.11 in /Users/hayeon.c/miniconda3/lib/python3.11/site-packages (from jsonschema[format-nongpl]>=4.18.0->jupyter-events>=0.9.0->jupyter-server<3,>=2.4.0->notebook->jupyter==1.0.0->d2l) (1.13)\n",
      "Requirement already satisfied: cffi>=1.0.1 in /Users/hayeon.c/miniconda3/lib/python3.11/site-packages (from argon2-cffi-bindings->argon2-cffi->jupyter-server<3,>=2.4.0->notebook->jupyter==1.0.0->d2l) (1.16.0)\n",
      "Requirement already satisfied: pycparser in /Users/hayeon.c/miniconda3/lib/python3.11/site-packages (from cffi>=1.0.1->argon2-cffi-bindings->argon2-cffi->jupyter-server<3,>=2.4.0->notebook->jupyter==1.0.0->d2l) (2.21)\n",
      "Requirement already satisfied: arrow>=0.15.0 in /Users/hayeon.c/miniconda3/lib/python3.11/site-packages (from isoduration->jsonschema[format-nongpl]>=4.18.0->jupyter-events>=0.9.0->jupyter-server<3,>=2.4.0->notebook->jupyter==1.0.0->d2l) (1.3.0)\n",
      "Requirement already satisfied: types-python-dateutil>=2.8.10 in /Users/hayeon.c/miniconda3/lib/python3.11/site-packages (from arrow>=0.15.0->isoduration->jsonschema[format-nongpl]>=4.18.0->jupyter-events>=0.9.0->jupyter-server<3,>=2.4.0->notebook->jupyter==1.0.0->d2l) (2.8.19.20240106)\n",
      "Using cached matplotlib-3.7.2-cp311-cp311-macosx_11_0_arm64.whl (7.3 MB)\n",
      "Installing collected packages: matplotlib\n",
      "  Attempting uninstall: matplotlib\n",
      "    Found existing installation: matplotlib 3.1.3\n",
      "    Uninstalling matplotlib-3.1.3:\n",
      "      Successfully uninstalled matplotlib-3.1.3\n",
      "Successfully installed matplotlib-3.7.2\n"
     ]
    }
   ],
   "source": [
    "!pip install d2l"
   ]
  },
  {
   "cell_type": "code",
   "execution_count": 3,
   "metadata": {
    "colab": {
     "base_uri": "https://localhost:8080/"
    },
    "id": "LoVFErxIiXog",
    "outputId": "fc2daf11-b86a-4c0d-9002-6c1cbb22deb4"
   },
   "outputs": [],
   "source": [
    "%matplotlib inline\n",
    "import torch\n",
    "import torchvision\n",
    "from torch.utils import data\n",
    "from torchvision import transforms\n",
    "from d2l import torch as d2l\n",
    "\n",
    "#d2l.use_svg_display()\n",
    "#from matplotlib_inline import backend_inline\n",
    "#backend_inline.set_matplotlib_formats('png')\n",
    "#import matplotlib.pyplot as plt\n",
    "#plt.rcParams['svg.fonttype'] = 'none'\n",
    "#plt.rcParams['savefig.format'] = 'png'"
   ]
  },
  {
   "cell_type": "code",
   "execution_count": 5,
   "metadata": {},
   "outputs": [
    {
     "name": "stdout",
     "output_type": "stream",
     "text": [
      "module://matplotlib_inline.backend_inline\n"
     ]
    }
   ],
   "source": [
    "import matplotlib\n",
    "print(matplotlib.backends.backend)"
   ]
  },
  {
   "cell_type": "code",
   "execution_count": 30,
   "metadata": {
    "colab": {
     "base_uri": "https://localhost:8080/",
     "height": 483,
     "referenced_widgets": [
      "f2085a4b4390419f864d503a6b0a1d34",
      "83481902669f411899abbcca7419ac11",
      "64e96e5ac68a44978177bddffd9dbbe3",
      "1fe1bea694f04f7eb098b082ac7db44c",
      "c7ffd3f3dcdf47ae99510d84387584b2",
      "b621110e5f7647f984b3f83976ff3855",
      "05d449267a8e41fc932c7a0d679dfbac",
      "5efd602e44264f39926c449ddaec0db5",
      "14faa392024249c48de703d1d9ea5683",
      "7a2a869ad9d64a2197b6187f26fefdfb",
      "09818dd755d641bebe820df0c89e061e",
      "bfff6c039a1e4b3db21454ffc2e3e61f",
      "dd1f7b5b216a4617b6e1acc6bebe88b4",
      "77747687baf541a0b68b4402c4edb18f",
      "cf8b679334e94c96b7dd47c7c1f29a96",
      "70c48e35d6fa4e64865f1362ee8402ee",
      "c40fb057632649fdb53ab521cd9c467b",
      "4c53c31744de4043bd144e9945d9d8d1",
      "8d67a026766d40de96332318b6c1d543",
      "39af13c3ae9447b2ac296b593e47cab8",
      "4eeca8dd044a4ef18bc50d41fdf60570",
      "8b88ae0605984f97a7ae093af1498424",
      "e28ee90dc0cc463c801ab57cf3533d27",
      "4c44e5017b4b4f5a864501c6ea4fc6b2",
      "10138ab0dcc249e080a105f95e8a09c4",
      "99ee76581e674e0ea27594c12b7af843",
      "617a611d5d2f4df2ae18a9bf8fbe2e4d",
      "1e9dda5bfc5f4c13b731d8fe09f78ce5",
      "53ab9ef92f08494d9f195be0012d3b94",
      "6a3aab710f9248fd871b0a444129f654",
      "7c4fbacb3932459d88ccbf0cd224b7ed",
      "2969695ae5c34df7bdff597e0afd1cdc",
      "78922f851b564c82a0526d8e3311ee01",
      "2bf171ffa0454e598a242daf2c401660",
      "2d0f9883cdb74c719c26f7d5da8e13fa",
      "9d2b16a8aa6643748c74c779f92e57f2",
      "2d97c011ccb74358ba1741310053daf4",
      "ab561858f71741b883f202ba6da47465",
      "5996ab99b9c6474892b73d900b03e342",
      "8c6e2536053c4f8592c232d17aad2527",
      "68219fd12b3a42e698633dbfeac4171b",
      "4dfcaae76a17407889ce9e71c1c6b7e0",
      "28ecd8e64de540929f5c6c306753d629",
      "ee9f41cc760344a9b1d5e7ba982cfad1"
     ]
    },
    "id": "iUnJtgdgmtTi",
    "outputId": "11d65cde-59b2-4883-c5e9-5c56786ca1e8"
   },
   "outputs": [],
   "source": [
    "trans = transforms.ToTensor()\n",
    "mnist_train = torchvision.datasets.FashionMNIST(\n",
    "    root = \"../data\", train = True, transform=trans, download = True) ##빈칸\n",
    "mnist_test = torchvision.datasets.FashionMNIST(\n",
    "    root = \"../data\", train = False, transform=trans, download=True) ##빈칸"
   ]
  },
  {
   "cell_type": "code",
   "execution_count": 31,
   "metadata": {
    "colab": {
     "base_uri": "https://localhost:8080/"
    },
    "id": "c5L6xPMUpE9d",
    "outputId": "2eed924b-9824-4b94-a394-b38ca52a67e8"
   },
   "outputs": [
    {
     "data": {
      "text/plain": [
       "(60000, 10000)"
      ]
     },
     "execution_count": 31,
     "metadata": {},
     "output_type": "execute_result"
    }
   ],
   "source": [
    "len(mnist_train), len(mnist_test)"
   ]
  },
  {
   "cell_type": "code",
   "execution_count": 32,
   "metadata": {
    "colab": {
     "base_uri": "https://localhost:8080/"
    },
    "id": "ODptX6l23f7W",
    "outputId": "ef01a6b8-7514-496d-ec89-124e87b42753",
    "scrolled": true
   },
   "outputs": [
    {
     "data": {
      "text/plain": [
       "torch.Size([1, 28, 28])"
      ]
     },
     "execution_count": 32,
     "metadata": {},
     "output_type": "execute_result"
    }
   ],
   "source": [
    "mnist_train[0][0].shape"
   ]
  },
  {
   "cell_type": "code",
   "execution_count": 33,
   "metadata": {
    "id": "i5-RRJoI4Boa"
   },
   "outputs": [],
   "source": [
    "def get_fashion_mnist_labels(labels):\n",
    "  \"\"\"Fashion-MNIST를 위한 텍스트라벨을 리턴\"\"\"\n",
    "  text_labels = ['t-shirt', 'trouser', 'pullover', 'dress', 'coat',\n",
    "                 'sandal', 'shirt', 'sneaker', 'bag', 'ankle boot']\n",
    "  return [text_labels[i] for i in labels] ## 빈칸을 채워주세요.##"
   ]
  },
  {
   "cell_type": "code",
   "execution_count": 34,
   "metadata": {
    "id": "g7t8PH2g5GCy"
   },
   "outputs": [],
   "source": [
    "# visualize exampㄴle\n",
    "\n",
    "def show_images(imgs, num_rows, num_cols, titles=None, scale=1.5):\n",
    "  \"\"\"이미지 리스트 플롯그리기\"\"\"\n",
    "  figsize = (num_cols * scale, num_rows * scale)\n",
    "  _, axes = d2l.plt.subplots(num_rows, num_cols, figsize = figsize)\n",
    "  axes = axes.flatten()\n",
    "  for i, (ax, img) in enumerate(zip(axes, imgs)):\n",
    "    if torch.is_tensor(img):\n",
    "         ax.imshow(img.numpy(), cmap='viridis')\n",
    "        # Tensor Image\n",
    "      ## 빈칸을 채워주세요. ##\n",
    "    else:\n",
    "        ax.imshow(img, cmap='viridis')\n",
    "      # PIL Image\n",
    "      ## 빈칸을 채워주세요. ##\n",
    "    ax.axes.get_xaxis().set_visible(False)\n",
    "    ax.axes.get_yaxis().set_visible(False)\n",
    "    if titles:\n",
    "      ax.set_title(titles[i])\n",
    "  return axes\n"
   ]
  },
  {
   "cell_type": "code",
   "execution_count": 37,
   "metadata": {
    "colab": {
     "base_uri": "https://localhost:8080/"
    },
    "id": "_o4sFnBu_Mqe",
    "outputId": "3a651507-fdf9-46a5-df72-7b20e28eace7",
    "scrolled": true
   },
   "outputs": [
    {
     "name": "stdout",
     "output_type": "stream",
     "text": [
      "Requirement already satisfied: matplotlib==3.7.2 in /Users/hayeon.c/miniconda3/lib/python3.11/site-packages (3.7.2)\n",
      "Requirement already satisfied: contourpy>=1.0.1 in /Users/hayeon.c/miniconda3/lib/python3.11/site-packages (from matplotlib==3.7.2) (1.2.0)\n",
      "Requirement already satisfied: cycler>=0.10 in /Users/hayeon.c/miniconda3/lib/python3.11/site-packages (from matplotlib==3.7.2) (0.12.1)\n",
      "Requirement already satisfied: fonttools>=4.22.0 in /Users/hayeon.c/miniconda3/lib/python3.11/site-packages (from matplotlib==3.7.2) (4.47.2)\n",
      "Requirement already satisfied: kiwisolver>=1.0.1 in /Users/hayeon.c/miniconda3/lib/python3.11/site-packages (from matplotlib==3.7.2) (1.4.5)\n",
      "Requirement already satisfied: numpy>=1.20 in /Users/hayeon.c/miniconda3/lib/python3.11/site-packages (from matplotlib==3.7.2) (1.23.5)\n",
      "Requirement already satisfied: packaging>=20.0 in /Users/hayeon.c/miniconda3/lib/python3.11/site-packages (from matplotlib==3.7.2) (23.1)\n",
      "Requirement already satisfied: pillow>=6.2.0 in /Users/hayeon.c/miniconda3/lib/python3.11/site-packages (from matplotlib==3.7.2) (10.0.1)\n",
      "Requirement already satisfied: pyparsing<3.1,>=2.3.1 in /Users/hayeon.c/miniconda3/lib/python3.11/site-packages (from matplotlib==3.7.2) (3.0.9)\n",
      "Requirement already satisfied: python-dateutil>=2.7 in /Users/hayeon.c/miniconda3/lib/python3.11/site-packages (from matplotlib==3.7.2) (2.8.2)\n",
      "Requirement already satisfied: six>=1.5 in /Users/hayeon.c/miniconda3/lib/python3.11/site-packages (from python-dateutil>=2.7->matplotlib==3.7.2) (1.16.0)\n"
     ]
    }
   ],
   "source": [
    "!pip install matplotlib==3.7.2 #3.1.3"
   ]
  },
  {
   "cell_type": "code",
   "execution_count": 39,
   "metadata": {
    "colab": {
     "base_uri": "https://localhost:8080/",
     "height": 297
    },
    "id": "OxYdsR7C6mMo",
    "outputId": "0e23cdf6-8f4e-4a6a-cd26-277882383587",
    "scrolled": true
   },
   "outputs": [
    {
     "data": {
      "image/png": "[encoded data removed]",
      "text/plain": [
       "<Figure size 1350x300 with 18 Axes>"
      ]
     },
     "metadata": {},
     "output_type": "display_data"
    }
   ],
   "source": [
    "# training dataset 가져오기\n",
    "import torch\n",
    "from torch.utils.data import DataLoader\n",
    "\n",
    "X, y = next(iter(data.DataLoader(mnist_train, batch_size=18, shuffle=True))) ## 빈칸을 채워주세요. ## \n",
    "show_images(X.reshape(18,28,28), 2, 9, titles = get_fashion_mnist_labels(y));"
   ]
  },
  {
   "cell_type": "code",
   "execution_count": 40,
   "metadata": {
    "colab": {
     "base_uri": "https://localhost:8080/"
    },
    "id": "6iuH76QZACsP",
    "outputId": "4052d75c-7311-4469-cf74-e6c691f56833"
   },
   "outputs": [],
   "source": [
    "# Reading a Minibatch\n",
    "batch_size = 256\n",
    "\n",
    "def get_dataloader_workers():\n",
    "  \"\"\"Use 4 processes to read the data.\"\"\"\n",
    "  return 4\n",
    "\n",
    "train_iter = data.DataLoader(mnist_train, batch_size, shuffle=True,\n",
    "                             num_workers = get_dataloader_workers())"
   ]
  },
  {
   "cell_type": "code",
   "execution_count": 41,
   "metadata": {
    "colab": {
     "base_uri": "https://localhost:8080/",
     "height": 35
    },
    "id": "IV1Jtny0BiPt",
    "outputId": "78e6c697-62cd-4c3f-9a08-4aa861e9acfb"
   },
   "outputs": [
    {
     "data": {
      "text/plain": [
       "'8.85.sec'"
      ]
     },
     "execution_count": 41,
     "metadata": {},
     "output_type": "execute_result"
    }
   ],
   "source": [
    "# training data 읽는 시간 체크\n",
    "\n",
    "timer = d2l.Timer()\n",
    "for X, y in train_iter:\n",
    "  continue\n",
    "f'{timer.stop():.2f}.sec'"
   ]
  },
  {
   "cell_type": "code",
   "execution_count": 42,
   "metadata": {
    "id": "BtPsiyJsCA7_"
   },
   "outputs": [],
   "source": [
    "# Putting All Things Together\n",
    "\n",
    "def load_data_fashion_mnist(batch_size, resize=None):\n",
    "  \"\"\"Fashion-MNIST dataset 을 다운로드하고 memory로 로드\"\"\"\n",
    "  trans = [transforms.ToTensor()]\n",
    "  if resize:\n",
    "    trans.insert(0, transforms.Resize(resize))\n",
    "  trans = transforms.Compose(trans)\n",
    "  mnist_train = torchvision.datasets.FashionMNIST(\n",
    "      root = \"../data\", train=True, transform=trans, download=True)\n",
    "  mnist_test = torchvision.datasets.FashionMNIST(\n",
    "      root=\"../data\", train=False, transform=trans, download=True)\n",
    "  return(data.DataLoader(mnist_train, batch_size, shuffle=True,\n",
    "                         num_workers=get_dataloader_workers()),\n",
    "         data.DataLoader(mnist_test, batch_size, shuffle=True,\n",
    "                         num_workers=get_dataloader_workers()))"
   ]
  },
  {
   "cell_type": "code",
   "execution_count": 43,
   "metadata": {
    "colab": {
     "base_uri": "https://localhost:8080/"
    },
    "id": "3rUSM8gTEjZk",
    "outputId": "ce2ebaaf-a35c-4dff-c059-a8c6be668397"
   },
   "outputs": [
    {
     "name": "stdout",
     "output_type": "stream",
     "text": [
      "torch.Size([32, 1, 64, 64]) torch.float32 torch.Size([32]) torch.int64\n"
     ]
    }
   ],
   "source": [
    "train_iter, test_iter = load_data_fashion_mnist(32, resize=64)\n",
    "for X, y in train_iter:\n",
    "  print(X.shape, X.dtype, y.shape, y.dtype)\n",
    "  break"
   ]
  },
  {
   "cell_type": "markdown",
   "metadata": {
    "id": "ulaJ94h0Y8fW"
   },
   "source": [
    "## 3.6 Implementation of Softmax Regression from Scratch"
   ]
  },
  {
   "cell_type": "markdown",
   "metadata": {
    "id": "uYpKFOrTgwXg"
   },
   "source": [
    "**코드 한 줄 한 줄이 어떤 이유로 쓰였는지 씹어보며 공부해보세요! 😀**"
   ]
  },
  {
   "cell_type": "code",
   "execution_count": 44,
   "metadata": {
    "id": "89Lubu51ZCCZ"
   },
   "outputs": [],
   "source": [
    "import torch\n",
    "from IPython import display\n",
    "from d2l import torch as d2l"
   ]
  },
  {
   "cell_type": "code",
   "execution_count": 45,
   "metadata": {
    "id": "gbIoU3lAZR5N"
   },
   "outputs": [],
   "source": [
    "batch_size = 256\n",
    "train_iter, test_iter = d2l.load_data_fashion_mnist(batch_size)"
   ]
  },
  {
   "cell_type": "code",
   "execution_count": 46,
   "metadata": {
    "id": "sFu5stt3ZaKD"
   },
   "outputs": [],
   "source": [
    "# image flatten to vectors of length 784.\n",
    "# 각 pixel 위치를 feature로 봄\n",
    "# class 가 10개니까 아웃풋 dimension이 10\n",
    "# Gaussian 노이즈로 W 초기값 설정\n",
    "# 0으로 b 초기값 설정\n",
    "\n",
    "num_inputs = 784\n",
    "num_outputs = 10\n",
    "W = torch.normal(0, 0.01, size = (num_inputs, num_outputs), requires_grad=True) ## \brequires_grad=true 로 역전파\n",
    "b = torch.zeros(num_outputs, requires_grad = True) ## bias 벡터"
   ]
  },
  {
   "cell_type": "code",
   "execution_count": 47,
   "metadata": {
    "colab": {
     "base_uri": "https://localhost:8080/"
    },
    "id": "ZQ3SVtmha6BU",
    "outputId": "bc1ef17c-0121-4c31-fef9-449ccd5a34bb"
   },
   "outputs": [
    {
     "data": {
      "text/plain": [
       "(tensor([[5., 7., 9.]]),\n",
       " tensor([[ 6.],\n",
       "         [15.]]))"
      ]
     },
     "execution_count": 47,
     "metadata": {},
     "output_type": "execute_result"
    }
   ],
   "source": [
    "X = torch.tensor([[1.0, 2.0, 3.0], [4.0,5.0,6.0]])\n",
    "X.sum(0, keepdim = True), X.sum(1, keepdim=True)"
   ]
  },
  {
   "cell_type": "code",
   "execution_count": 66,
   "metadata": {
    "id": "hl0dOMLncRQN",
    "scrolled": true
   },
   "outputs": [],
   "source": [
    "# softmax 함수를 구현해보세요.\n",
    "\n",
    "def softmax(X):\n",
    "  X_exp = torch.exp(X) ## 텐서원소 지수화 \n",
    "  partition = X_exp.sum(dim=1, keepdims=True) ## 빈칸을 채워주세요. ##row 방향으로 합함\n",
    "  return X_exp / partition\n",
    "\n",
    "# For any input X, we turn each element into a nonnegative number. \n",
    "# Each row sums up to 1, as is required for a probability"
   ]
  },
  {
   "cell_type": "code",
   "execution_count": 67,
   "metadata": {
    "colab": {
     "base_uri": "https://localhost:8080/"
    },
    "id": "r9SqT8GUSUuv",
    "outputId": "879e8995-5116-4d39-ec70-bbb8b1f71a5f"
   },
   "outputs": [
    {
     "data": {
      "text/plain": [
       "(tensor([[0.3510, 0.0762, 0.1524, 0.0963, 0.3242],\n",
       "         [0.4940, 0.2398, 0.0626, 0.0545, 0.1491]]),\n",
       " tensor([1., 1.]))"
      ]
     },
     "execution_count": 67,
     "metadata": {},
     "output_type": "execute_result"
    }
   ],
   "source": [
    "X = torch.normal(0, 1, (2,5))\n",
    "X_prob = softmax(X)\n",
    "X_prob, X_prob.sum(1)"
   ]
  },
  {
   "cell_type": "code",
   "execution_count": 68,
   "metadata": {
    "id": "rvNT7pIlSlab"
   },
   "outputs": [],
   "source": [
    "def net(X):\n",
    "  return softmax(torch.matmul(X.reshape((-1, W.shape[0])), W) + b)"
   ]
  },
  {
   "cell_type": "code",
   "execution_count": 69,
   "metadata": {
    "colab": {
     "base_uri": "https://localhost:8080/"
    },
    "id": "et2FD5OVTq-A",
    "outputId": "9bf760b1-b71c-4340-bc74-5a0be4fe69d2"
   },
   "outputs": [
    {
     "data": {
      "text/plain": [
       "tensor([0.1000, 0.5000])"
      ]
     },
     "execution_count": 69,
     "metadata": {},
     "output_type": "execute_result"
    }
   ],
   "source": [
    "y = torch.tensor([0,2])\n",
    "y_hat = torch.tensor([[0.1, 0.3, 0.6], [0.3, 0.2, 0.5]])\n",
    "y_hat[[0,1], y]"
   ]
  },
  {
   "cell_type": "code",
   "execution_count": 70,
   "metadata": {
    "colab": {
     "base_uri": "https://localhost:8080/"
    },
    "id": "LxEgwZlyUynl",
    "outputId": "cae84383-02b7-40fe-ceb3-7edd64b75475"
   },
   "outputs": [
    {
     "data": {
      "text/plain": [
       "tensor([2.3026, 0.6931])"
      ]
     },
     "execution_count": 70,
     "metadata": {},
     "output_type": "execute_result"
    }
   ],
   "source": [
    "# cross-entropy loss function을 구현해보세요.\n",
    "\n",
    "def cross_entropy(y_hat, y):\n",
    "    return -torch.log(y_hat[list(range(len(y_hat))), y]) # .mean()붙이느냐 마느냐\n",
    "  ## 빈칸을 채워주세요. ##\n",
    "\n",
    "# cross-entropy takes the negative log-likelihood of the predicted probability assigned to the true label\n",
    "cross_entropy(y_hat, y)"
   ]
  },
  {
   "cell_type": "code",
   "execution_count": 72,
   "metadata": {
    "id": "QVfSBJuxVJqJ"
   },
   "outputs": [],
   "source": [
    "def accuracy(y_hat, y):\n",
    "  \"\"\"correct prediction 수를 계산\"\"\"\n",
    "  if len(y_hat.shape) > 1 and y_hat.shape[1] > 1:\n",
    "    y_hat = y_hat.argmax(axis = 1)\n",
    "  cmp = y_hat.type(y.dtype) == y\n",
    "  return float(cmp.type(y.dtype).sum())"
   ]
  },
  {
   "cell_type": "code",
   "execution_count": 73,
   "metadata": {
    "colab": {
     "base_uri": "https://localhost:8080/"
    },
    "id": "q8ZcA1mhU_3f",
    "outputId": "2acba3d9-91b5-4c4b-91c1-793475a68453"
   },
   "outputs": [
    {
     "data": {
      "text/plain": [
       "0.5"
      ]
     },
     "execution_count": 73,
     "metadata": {},
     "output_type": "execute_result"
    }
   ],
   "source": [
    "accuracy(y_hat, y) / len(y)"
   ]
  },
  {
   "cell_type": "code",
   "execution_count": 74,
   "metadata": {
    "id": "9CUt5mryVFAg"
   },
   "outputs": [],
   "source": [
    "def evaluate_accuracy(net, data_iter):\n",
    "    \"\"\"모델 정확도 계산\"\"\"\n",
    "    if isinstance(net, torch.nn.Module):\n",
    "        net.eval()\n",
    "    metric = Accumulator(2)\n",
    "\n",
    "    with torch.no_grad(): ## 무엇이 들어가야할까요? ##\n",
    "        for X, y in data_iter:\n",
    "            metric.add(accuracy(net(X), y), y.numel()) #numel은 원소 총 개수 반환하는 기능 \n",
    "    return metric[0] / metric[1] #net(x): 입력 데이터를 X를 모델 통해 예측한 예측값"
   ]
  },
  {
   "cell_type": "code",
   "execution_count": 75,
   "metadata": {
    "id": "QmLz-HNoXgig"
   },
   "outputs": [],
   "source": [
    "class Accumulator:\n",
    "    \"\"\"n 개 변수 합 축적\"\"\"\n",
    "    def __init__(self, n):\n",
    "        self.data = [0.0] * n\n",
    "\n",
    "    def add(self, *args):\n",
    "        self.data = [a + float(b) for a, b in zip(self.data, args)]\n",
    "\n",
    "    def reset(self):\n",
    "        self.data = [0.0] * len(self.data)\n",
    "\n",
    "    def __getitem__(self, idx):\n",
    "        return self.data[idx]"
   ]
  },
  {
   "cell_type": "code",
   "execution_count": 76,
   "metadata": {
    "colab": {
     "base_uri": "https://localhost:8080/"
    },
    "id": "wbI98ltDWQuG",
    "outputId": "99e83563-b9c1-4bf0-af04-492782304aaf"
   },
   "outputs": [
    {
     "data": {
      "text/plain": [
       "0.6561"
      ]
     },
     "execution_count": 76,
     "metadata": {},
     "output_type": "execute_result"
    }
   ],
   "source": [
    "evaluate_accuracy(net, test_iter)"
   ]
  },
  {
   "cell_type": "code",
   "execution_count": 77,
   "metadata": {
    "id": "0zitI4zDWZBB"
   },
   "outputs": [],
   "source": [
    "def train_epoch(net, train_iter, loss, updater):\n",
    "    \"\"\"training loop\"\"\"\n",
    "    # Set the model to training model\n",
    "    if isinstance(net, torch.nn.Module):\n",
    "        net.train()\n",
    "    # Sum of training loss, sum of training accuracy, number of examples\n",
    "    metric = Accumulator(3)\n",
    "    for X, y in train_iter:\n",
    "        # Compute gradients and update parameters\n",
    "        y_hat = net(X)\n",
    "        l = loss(y_hat, y)\n",
    "        if isinstance(updater, torch.optim.Optimizer):\n",
    "            # Using PyTorch in-built optimizer & loss criterion\n",
    "            updater.zero_grad()\n",
    "            l.mean().backward() ## 빈칸을 채워주세요. ##왜 여기는 mean이고 아래는 sum일까?\n",
    "            updater.step()\n",
    "        else:\n",
    "            # Using custom built optimizer & loss criterion\n",
    "            l.sum().backward()## 빈칸을 채워주세요. ##\n",
    "            updater(X.shape[0])\n",
    "        metric.add(float(l.sum()), accuracy(y_hat, y), y.numel())\n",
    "    # Return training loss and training accuracy\n",
    "    return metric[0] / metric[2], metric[1] / metric[2]"
   ]
  },
  {
   "cell_type": "code",
   "execution_count": 78,
   "metadata": {
    "id": "Y7b5AmvyaKJu"
   },
   "outputs": [],
   "source": [
    "class Animator:\n",
    "    \"\"\"애니메이션으로 데이터 플롯팅\"\"\"\n",
    "    def __init__(self, xlabel=None, ylabel=None, legend=None, xlim=None,\n",
    "                 ylim=None, xscale='linear', yscale='linear',\n",
    "                 fmts=('-', 'm--', 'g-.', 'r:'), nrows=1, ncols=1,\n",
    "                 figsize=(3.5, 2.5)):\n",
    "        # Incrementally plot multiple lines\n",
    "        if legend is None:\n",
    "            legend = []\n",
    "        d2l.use_svg_display()\n",
    "        self.fig, self.axes = d2l.plt.subplots(nrows, ncols, figsize=figsize)\n",
    "        if nrows * ncols == 1:\n",
    "            self.axes = [self.axes, ]\n",
    "        # Use a lambda function to capture arguments\n",
    "        self.config_axes = lambda: d2l.set_axes(\n",
    "            self.axes[0], xlabel, ylabel, xlim, ylim, xscale, yscale, legend)\n",
    "        self.X, self.Y, self.fmts = None, None, fmts\n",
    "\n",
    "    def add(self, x, y):\n",
    "        # Add multiple data points into the figure\n",
    "        if not hasattr(y, \"__len__\"):\n",
    "            y = [y]\n",
    "        n = len(y)\n",
    "        if not hasattr(x, \"__len__\"):\n",
    "            x = [x] * n\n",
    "        if not self.X:\n",
    "            self.X = [[] for _ in range(n)]\n",
    "        if not self.Y:\n",
    "            self.Y = [[] for _ in range(n)]\n",
    "        for i, (a, b) in enumerate(zip(x, y)):\n",
    "            if a is not None and b is not None:\n",
    "                self.X[i].append(a)\n",
    "                self.Y[i].append(b)\n",
    "        self.axes[0].cla()\n",
    "        for x, y, fmt in zip(self.X, self.Y, self.fmts):\n",
    "            self.axes[0].plot(x, y, fmt)\n",
    "        self.config_axes()\n",
    "        display.display(self.fig)\n",
    "        display.clear_output(wait=True)\n"
   ]
  },
  {
   "cell_type": "code",
   "execution_count": 79,
   "metadata": {
    "id": "8fCzuNB1cSts"
   },
   "outputs": [],
   "source": [
    "def train(net, train_iter, test_iter, loss, num_epochs, updater):\n",
    "    \"\"\"모델 학습\"\"\"\n",
    "    animator = Animator(xlabel='epoch', xlim=[1, num_epochs], ylim=[0.3, 0.9],\n",
    "                        legend=['train loss', 'train acc', 'test acc'])\n",
    "    for epoch in range(num_epochs):\n",
    "        train_metrics = train_epoch(net, train_iter, loss, updater)\n",
    "        test_acc = evaluate_accuracy(net, test_iter)\n",
    "        animator.add(epoch + 1, train_metrics + (test_acc,))\n",
    "    train_loss, train_acc = train_metrics\n",
    "    assert train_loss < 0.5, train_loss # assert: 내장함수로, 주어진 조건이 참인지 확인하는 역할\n",
    "    assert train_acc <= 1 and train_acc > 0.7, train_acc # assert 조건(표현식), 메시지(지정하는 출력 메시지)\n",
    "    assert test_acc <= 1 and test_acc > 0.7, test_acc\n"
   ]
  },
  {
   "cell_type": "code",
   "execution_count": 80,
   "metadata": {
    "id": "FLTyQ3mxeVOP"
   },
   "outputs": [],
   "source": [
    "lr = 0.1\n",
    "\n",
    "def updater(batch_size):\n",
    "  return d2l.sgd([W, b], lr, batch_size)"
   ]
  },
  {
   "cell_type": "code",
   "execution_count": 89,
   "metadata": {
    "colab": {
     "base_uri": "https://localhost:8080/",
     "height": 261
    },
    "id": "UcyYl51refkY",
    "outputId": "17a5dafc-50b6-4ce8-9eff-79966fcb4bef",
    "scrolled": true
   },
   "outputs": [
    {
     "ename": "ValueError",
     "evalue": "'svg' is not a valid value for output; supported values are 'path', 'agg', 'macosx'",
     "output_type": "error",
     "traceback": [
      "\u001b[0;31m---------------------------------------------------------------------------\u001b[0m",
      "\u001b[0;31mValueError\u001b[0m                                Traceback (most recent call last)",
      "File \u001b[0;32m~/miniconda3/lib/python3.11/site-packages/IPython/core/formatters.py:340\u001b[0m, in \u001b[0;36mBaseFormatter.__call__\u001b[0;34m(self, obj)\u001b[0m\n\u001b[1;32m    338\u001b[0m     \u001b[38;5;28;01mpass\u001b[39;00m\n\u001b[1;32m    339\u001b[0m \u001b[38;5;28;01melse\u001b[39;00m:\n\u001b[0;32m--> 340\u001b[0m     \u001b[38;5;28;01mreturn\u001b[39;00m \u001b[43mprinter\u001b[49m\u001b[43m(\u001b[49m\u001b[43mobj\u001b[49m\u001b[43m)\u001b[49m\n\u001b[1;32m    341\u001b[0m \u001b[38;5;66;03m# Finally look for special method names\u001b[39;00m\n\u001b[1;32m    342\u001b[0m method \u001b[38;5;241m=\u001b[39m get_real_method(obj, \u001b[38;5;28mself\u001b[39m\u001b[38;5;241m.\u001b[39mprint_method)\n",
      "File \u001b[0;32m~/miniconda3/lib/python3.11/site-packages/IPython/core/pylabtools.py:152\u001b[0m, in \u001b[0;36mprint_figure\u001b[0;34m(fig, fmt, bbox_inches, base64, **kwargs)\u001b[0m\n\u001b[1;32m    149\u001b[0m     \u001b[38;5;28;01mfrom\u001b[39;00m \u001b[38;5;21;01mmatplotlib\u001b[39;00m\u001b[38;5;21;01m.\u001b[39;00m\u001b[38;5;21;01mbackend_bases\u001b[39;00m \u001b[38;5;28;01mimport\u001b[39;00m FigureCanvasBase\n\u001b[1;32m    150\u001b[0m     FigureCanvasBase(fig)\n\u001b[0;32m--> 152\u001b[0m \u001b[43mfig\u001b[49m\u001b[38;5;241;43m.\u001b[39;49m\u001b[43mcanvas\u001b[49m\u001b[38;5;241;43m.\u001b[39;49m\u001b[43mprint_figure\u001b[49m\u001b[43m(\u001b[49m\u001b[43mbytes_io\u001b[49m\u001b[43m,\u001b[49m\u001b[43m \u001b[49m\u001b[38;5;241;43m*\u001b[39;49m\u001b[38;5;241;43m*\u001b[39;49m\u001b[43mkw\u001b[49m\u001b[43m)\u001b[49m\n\u001b[1;32m    153\u001b[0m data \u001b[38;5;241m=\u001b[39m bytes_io\u001b[38;5;241m.\u001b[39mgetvalue()\n\u001b[1;32m    154\u001b[0m \u001b[38;5;28;01mif\u001b[39;00m fmt \u001b[38;5;241m==\u001b[39m \u001b[38;5;124m'\u001b[39m\u001b[38;5;124msvg\u001b[39m\u001b[38;5;124m'\u001b[39m:\n",
      "File \u001b[0;32m~/miniconda3/lib/python3.11/site-packages/matplotlib/backend_bases.py:2336\u001b[0m, in \u001b[0;36mprint_figure\u001b[0;34m(self, filename, dpi, facecolor, edgecolor, orientation, format, bbox_inches, pad_inches, bbox_extra_artists, backend, **kwargs)\u001b[0m\n\u001b[1;32m   2334\u001b[0m     toolbar\u001b[38;5;241m.\u001b[39mback()\n\u001b[1;32m   2335\u001b[0m \u001b[38;5;66;03m# (default key for forward: 'right' and 'v')\u001b[39;00m\n\u001b[0;32m-> 2336\u001b[0m \u001b[38;5;28;01melif\u001b[39;00m event\u001b[38;5;241m.\u001b[39mkey \u001b[38;5;129;01min\u001b[39;00m forward_keys:\n\u001b[1;32m   2337\u001b[0m     toolbar\u001b[38;5;241m.\u001b[39mforward()\n\u001b[1;32m   2338\u001b[0m \u001b[38;5;66;03m# pan mnemonic (default key 'p')\u001b[39;00m\n",
      "File \u001b[0;32m~/miniconda3/lib/python3.11/site-packages/matplotlib/backend_bases.py:1598\u001b[0m, in \u001b[0;36m_get_renderer\u001b[0;34m(figure, print_method)\u001b[0m\n\u001b[1;32m   1596\u001b[0m \u001b[38;5;28mself\u001b[39m\u001b[38;5;241m.\u001b[39m_fix_ipython_backend2gui()\n\u001b[1;32m   1597\u001b[0m \u001b[38;5;28mself\u001b[39m\u001b[38;5;241m.\u001b[39m_is_idle_drawing \u001b[38;5;241m=\u001b[39m \u001b[38;5;28;01mTrue\u001b[39;00m\n\u001b[0;32m-> 1598\u001b[0m \u001b[38;5;28mself\u001b[39m\u001b[38;5;241m.\u001b[39m_is_saving \u001b[38;5;241m=\u001b[39m \u001b[38;5;28;01mFalse\u001b[39;00m\n\u001b[1;32m   1599\u001b[0m figure\u001b[38;5;241m.\u001b[39mset_canvas(\u001b[38;5;28mself\u001b[39m)\n\u001b[1;32m   1600\u001b[0m \u001b[38;5;28mself\u001b[39m\u001b[38;5;241m.\u001b[39mfigure \u001b[38;5;241m=\u001b[39m figure\n",
      "File \u001b[0;32m~/miniconda3/lib/python3.11/site-packages/matplotlib/backend_bases.py:2232\u001b[0m, in \u001b[0;36m<lambda>\u001b[0;34m(*args, **kwargs)\u001b[0m\n\u001b[1;32m   2212\u001b[0m \u001b[38;5;28;01mdef\u001b[39;00m \u001b[38;5;21mnew_timer\u001b[39m(\u001b[38;5;28mself\u001b[39m, \u001b[38;5;241m*\u001b[39margs, \u001b[38;5;241m*\u001b[39m\u001b[38;5;241m*\u001b[39mkwargs):\n\u001b[1;32m   2213\u001b[0m \u001b[38;5;250m    \u001b[39m\u001b[38;5;124;03m\"\"\"\u001b[39;00m\n\u001b[1;32m   2214\u001b[0m \u001b[38;5;124;03m    Creates a new backend-specific subclass of\u001b[39;00m\n\u001b[1;32m   2215\u001b[0m \u001b[38;5;124;03m    :class:`backend_bases.Timer`. This is useful for getting periodic\u001b[39;00m\n\u001b[1;32m   2216\u001b[0m \u001b[38;5;124;03m    events through the backend's native event loop. Implemented only for\u001b[39;00m\n\u001b[1;32m   2217\u001b[0m \u001b[38;5;124;03m    backends with GUIs.\u001b[39;00m\n\u001b[1;32m   2218\u001b[0m \n\u001b[1;32m   2219\u001b[0m \u001b[38;5;124;03m    Other Parameters\u001b[39;00m\n\u001b[1;32m   2220\u001b[0m \u001b[38;5;124;03m    ----------------\u001b[39;00m\n\u001b[1;32m   2221\u001b[0m \u001b[38;5;124;03m    interval : scalar\u001b[39;00m\n\u001b[1;32m   2222\u001b[0m \u001b[38;5;124;03m        Timer interval in milliseconds\u001b[39;00m\n\u001b[1;32m   2223\u001b[0m \n\u001b[1;32m   2224\u001b[0m \u001b[38;5;124;03m    callbacks : List[Tuple[callable, Tuple, Dict]]\u001b[39;00m\n\u001b[1;32m   2225\u001b[0m \u001b[38;5;124;03m        Sequence of (func, args, kwargs) where ``func(*args, **kwargs)``\u001b[39;00m\n\u001b[1;32m   2226\u001b[0m \u001b[38;5;124;03m        will be executed by the timer every *interval*.\u001b[39;00m\n\u001b[1;32m   2227\u001b[0m \n\u001b[1;32m   2228\u001b[0m \u001b[38;5;124;03m        callbacks which return ``False`` or ``0`` will be removed from the\u001b[39;00m\n\u001b[1;32m   2229\u001b[0m \u001b[38;5;124;03m        timer.\u001b[39;00m\n\u001b[1;32m   2230\u001b[0m \n\u001b[1;32m   2231\u001b[0m \u001b[38;5;124;03m    Examples\u001b[39;00m\n\u001b[0;32m-> 2232\u001b[0m \u001b[38;5;124;03m    --------\u001b[39;00m\n\u001b[1;32m   2233\u001b[0m \n\u001b[1;32m   2234\u001b[0m \u001b[38;5;124;03m    >>> timer = fig.canvas.new_timer(callbacks=[(f1, (1, ), {'a': 3}),])\u001b[39;00m\n\u001b[1;32m   2235\u001b[0m \n\u001b[1;32m   2236\u001b[0m \u001b[38;5;124;03m    \"\"\"\u001b[39;00m\n\u001b[1;32m   2237\u001b[0m     \u001b[38;5;28;01mreturn\u001b[39;00m TimerBase(\u001b[38;5;241m*\u001b[39margs, \u001b[38;5;241m*\u001b[39m\u001b[38;5;241m*\u001b[39mkwargs)\n",
      "File \u001b[0;32m~/miniconda3/lib/python3.11/site-packages/matplotlib/backends/backend_svg.py:1202\u001b[0m, in \u001b[0;36mFigureCanvasSVG.print_svg\u001b[0;34m(self, filename, *args, **kwargs)\u001b[0m\n\u001b[1;32m   1199\u001b[0m     fh \u001b[38;5;241m=\u001b[39m io\u001b[38;5;241m.\u001b[39mTextIOWrapper(fh, \u001b[38;5;124m'\u001b[39m\u001b[38;5;124mutf-8\u001b[39m\u001b[38;5;124m'\u001b[39m)\n\u001b[1;32m   1200\u001b[0m     detach \u001b[38;5;241m=\u001b[39m \u001b[38;5;28;01mTrue\u001b[39;00m\n\u001b[0;32m-> 1202\u001b[0m result \u001b[38;5;241m=\u001b[39m \u001b[38;5;28;43mself\u001b[39;49m\u001b[38;5;241;43m.\u001b[39;49m\u001b[43m_print_svg\u001b[49m\u001b[43m(\u001b[49m\u001b[43mfilename\u001b[49m\u001b[43m,\u001b[49m\u001b[43m \u001b[49m\u001b[43mfh\u001b[49m\u001b[43m,\u001b[49m\u001b[43m \u001b[49m\u001b[38;5;241;43m*\u001b[39;49m\u001b[38;5;241;43m*\u001b[39;49m\u001b[43mkwargs\u001b[49m\u001b[43m)\u001b[49m\n\u001b[1;32m   1204\u001b[0m \u001b[38;5;66;03m# Detach underlying stream from wrapper so that it remains open in\u001b[39;00m\n\u001b[1;32m   1205\u001b[0m \u001b[38;5;66;03m# the caller.\u001b[39;00m\n\u001b[1;32m   1206\u001b[0m \u001b[38;5;28;01mif\u001b[39;00m detach:\n",
      "File \u001b[0;32m~/miniconda3/lib/python3.11/site-packages/matplotlib/backends/backend_svg.py:1224\u001b[0m, in \u001b[0;36mFigureCanvasSVG._print_svg\u001b[0;34m(self, filename, fh, dpi, bbox_inches_restore, **kwargs)\u001b[0m\n\u001b[1;32m   1219\u001b[0m width, height \u001b[38;5;241m=\u001b[39m \u001b[38;5;28mself\u001b[39m\u001b[38;5;241m.\u001b[39mfigure\u001b[38;5;241m.\u001b[39mget_size_inches()\n\u001b[1;32m   1220\u001b[0m w, h \u001b[38;5;241m=\u001b[39m width \u001b[38;5;241m*\u001b[39m \u001b[38;5;241m72\u001b[39m, height \u001b[38;5;241m*\u001b[39m \u001b[38;5;241m72\u001b[39m\n\u001b[1;32m   1222\u001b[0m renderer \u001b[38;5;241m=\u001b[39m MixedModeRenderer(\n\u001b[1;32m   1223\u001b[0m     \u001b[38;5;28mself\u001b[39m\u001b[38;5;241m.\u001b[39mfigure, width, height, dpi,\n\u001b[0;32m-> 1224\u001b[0m     \u001b[43mRendererSVG\u001b[49m\u001b[43m(\u001b[49m\u001b[43mw\u001b[49m\u001b[43m,\u001b[49m\u001b[43m \u001b[49m\u001b[43mh\u001b[49m\u001b[43m,\u001b[49m\u001b[43m \u001b[49m\u001b[43mfh\u001b[49m\u001b[43m,\u001b[49m\u001b[43m \u001b[49m\u001b[43mfilename\u001b[49m\u001b[43m,\u001b[49m\u001b[43m \u001b[49m\u001b[43mdpi\u001b[49m\u001b[43m)\u001b[49m,\n\u001b[1;32m   1225\u001b[0m     bbox_inches_restore\u001b[38;5;241m=\u001b[39mbbox_inches_restore)\n\u001b[1;32m   1227\u001b[0m \u001b[38;5;28mself\u001b[39m\u001b[38;5;241m.\u001b[39mfigure\u001b[38;5;241m.\u001b[39mdraw(renderer)\n\u001b[1;32m   1228\u001b[0m renderer\u001b[38;5;241m.\u001b[39mfinalize()\n",
      "File \u001b[0;32m~/miniconda3/lib/python3.11/site-packages/matplotlib/backends/backend_svg.py:293\u001b[0m, in \u001b[0;36mRendererSVG.__init__\u001b[0;34m(self, width, height, svgwriter, basename, image_dpi)\u001b[0m\n\u001b[1;32m    291\u001b[0m \u001b[38;5;28mself\u001b[39m\u001b[38;5;241m.\u001b[39m_n_gradients \u001b[38;5;241m=\u001b[39m \u001b[38;5;241m0\u001b[39m\n\u001b[1;32m    292\u001b[0m \u001b[38;5;28mself\u001b[39m\u001b[38;5;241m.\u001b[39m_fonts \u001b[38;5;241m=\u001b[39m OrderedDict()\n\u001b[0;32m--> 293\u001b[0m \u001b[38;5;28mself\u001b[39m\u001b[38;5;241m.\u001b[39mmathtext_parser \u001b[38;5;241m=\u001b[39m \u001b[43mMathTextParser\u001b[49m\u001b[43m(\u001b[49m\u001b[38;5;124;43m'\u001b[39;49m\u001b[38;5;124;43mSVG\u001b[39;49m\u001b[38;5;124;43m'\u001b[39;49m\u001b[43m)\u001b[49m\n\u001b[1;32m    295\u001b[0m RendererBase\u001b[38;5;241m.\u001b[39m\u001b[38;5;21m__init__\u001b[39m(\u001b[38;5;28mself\u001b[39m)\n\u001b[1;32m    296\u001b[0m \u001b[38;5;28mself\u001b[39m\u001b[38;5;241m.\u001b[39m_glyph_map \u001b[38;5;241m=\u001b[39m \u001b[38;5;28mdict\u001b[39m()\n",
      "File \u001b[0;32m~/miniconda3/lib/python3.11/site-packages/matplotlib/mathtext.py:206\u001b[0m, in \u001b[0;36m__init__\u001b[0;34m(self, output)\u001b[0m\n\u001b[1;32m    197\u001b[0m \u001b[38;5;28mself\u001b[39m\u001b[38;5;241m.\u001b[39mset_canvas_size(\n\u001b[1;32m    198\u001b[0m     bbox[\u001b[38;5;241m2\u001b[39m] \u001b[38;5;241m-\u001b[39m bbox[\u001b[38;5;241m0\u001b[39m],\n\u001b[1;32m    199\u001b[0m     (bbox[\u001b[38;5;241m3\u001b[39m] \u001b[38;5;241m-\u001b[39m bbox[\u001b[38;5;241m1\u001b[39m]) \u001b[38;5;241m-\u001b[39m orig_depth,\n\u001b[1;32m    200\u001b[0m     (bbox[\u001b[38;5;241m3\u001b[39m] \u001b[38;5;241m-\u001b[39m bbox[\u001b[38;5;241m1\u001b[39m]) \u001b[38;5;241m-\u001b[39m orig_height)\n\u001b[1;32m    201\u001b[0m ship(\u001b[38;5;241m-\u001b[39mbbox[\u001b[38;5;241m0\u001b[39m], \u001b[38;5;241m-\u001b[39mbbox[\u001b[38;5;241m1\u001b[39m], box)\n\u001b[1;32m    202\u001b[0m result \u001b[38;5;241m=\u001b[39m (\u001b[38;5;28mself\u001b[39m\u001b[38;5;241m.\u001b[39mox,\n\u001b[1;32m    203\u001b[0m           \u001b[38;5;28mself\u001b[39m\u001b[38;5;241m.\u001b[39moy,\n\u001b[1;32m    204\u001b[0m           \u001b[38;5;28mself\u001b[39m\u001b[38;5;241m.\u001b[39mwidth,\n\u001b[1;32m    205\u001b[0m           \u001b[38;5;28mself\u001b[39m\u001b[38;5;241m.\u001b[39mheight \u001b[38;5;241m+\u001b[39m \u001b[38;5;28mself\u001b[39m\u001b[38;5;241m.\u001b[39mdepth,\n\u001b[0;32m--> 206\u001b[0m           \u001b[38;5;28mself\u001b[39m\u001b[38;5;241m.\u001b[39mdepth,\n\u001b[1;32m    207\u001b[0m           \u001b[38;5;28mself\u001b[39m\u001b[38;5;241m.\u001b[39mimage,\n\u001b[1;32m    208\u001b[0m           used_characters)\n\u001b[1;32m    209\u001b[0m \u001b[38;5;28mself\u001b[39m\u001b[38;5;241m.\u001b[39mimage \u001b[38;5;241m=\u001b[39m \u001b[38;5;28;01mNone\u001b[39;00m\n\u001b[1;32m    210\u001b[0m \u001b[38;5;28;01mreturn\u001b[39;00m result\n",
      "File \u001b[0;32m~/miniconda3/lib/python3.11/site-packages/matplotlib/_api/__init__.py:192\u001b[0m, in \u001b[0;36mcheck_getitem\u001b[0;34m(_mapping, **kwargs)\u001b[0m\n",
      "\u001b[0;31mValueError\u001b[0m: 'svg' is not a valid value for output; supported values are 'path', 'agg', 'macosx'"
     ]
    },
    {
     "data": {
      "text/plain": [
       "<Figure size 350x250 with 1 Axes>"
      ]
     },
     "metadata": {},
     "output_type": "display_data"
    }
   ],
   "source": [
    "num_epochs = 10\n",
    "train(net, train_iter, test_iter, cross_entropy, num_epochs, updater)"
   ]
  },
  {
   "cell_type": "code",
   "execution_count": 82,
   "metadata": {
    "colab": {
     "base_uri": "https://localhost:8080/",
     "height": 198
    },
    "id": "hkU0DahPepAA",
    "outputId": "a36a44cf-ae41-4fb7-b35f-07a8850cd45d"
   },
   "outputs": [
    {
     "ename": "ValueError",
     "evalue": "'svg' is not a valid value for output; supported values are 'path', 'agg', 'macosx'",
     "output_type": "error",
     "traceback": [
      "\u001b[0;31m---------------------------------------------------------------------------\u001b[0m",
      "\u001b[0;31mValueError\u001b[0m                                Traceback (most recent call last)",
      "File \u001b[0;32m~/miniconda3/lib/python3.11/site-packages/IPython/core/formatters.py:340\u001b[0m, in \u001b[0;36mBaseFormatter.__call__\u001b[0;34m(self, obj)\u001b[0m\n\u001b[1;32m    338\u001b[0m     \u001b[38;5;28;01mpass\u001b[39;00m\n\u001b[1;32m    339\u001b[0m \u001b[38;5;28;01melse\u001b[39;00m:\n\u001b[0;32m--> 340\u001b[0m     \u001b[38;5;28;01mreturn\u001b[39;00m \u001b[43mprinter\u001b[49m\u001b[43m(\u001b[49m\u001b[43mobj\u001b[49m\u001b[43m)\u001b[49m\n\u001b[1;32m    341\u001b[0m \u001b[38;5;66;03m# Finally look for special method names\u001b[39;00m\n\u001b[1;32m    342\u001b[0m method \u001b[38;5;241m=\u001b[39m get_real_method(obj, \u001b[38;5;28mself\u001b[39m\u001b[38;5;241m.\u001b[39mprint_method)\n",
      "File \u001b[0;32m~/miniconda3/lib/python3.11/site-packages/IPython/core/pylabtools.py:152\u001b[0m, in \u001b[0;36mprint_figure\u001b[0;34m(fig, fmt, bbox_inches, base64, **kwargs)\u001b[0m\n\u001b[1;32m    149\u001b[0m     \u001b[38;5;28;01mfrom\u001b[39;00m \u001b[38;5;21;01mmatplotlib\u001b[39;00m\u001b[38;5;21;01m.\u001b[39;00m\u001b[38;5;21;01mbackend_bases\u001b[39;00m \u001b[38;5;28;01mimport\u001b[39;00m FigureCanvasBase\n\u001b[1;32m    150\u001b[0m     FigureCanvasBase(fig)\n\u001b[0;32m--> 152\u001b[0m \u001b[43mfig\u001b[49m\u001b[38;5;241;43m.\u001b[39;49m\u001b[43mcanvas\u001b[49m\u001b[38;5;241;43m.\u001b[39;49m\u001b[43mprint_figure\u001b[49m\u001b[43m(\u001b[49m\u001b[43mbytes_io\u001b[49m\u001b[43m,\u001b[49m\u001b[43m \u001b[49m\u001b[38;5;241;43m*\u001b[39;49m\u001b[38;5;241;43m*\u001b[39;49m\u001b[43mkw\u001b[49m\u001b[43m)\u001b[49m\n\u001b[1;32m    153\u001b[0m data \u001b[38;5;241m=\u001b[39m bytes_io\u001b[38;5;241m.\u001b[39mgetvalue()\n\u001b[1;32m    154\u001b[0m \u001b[38;5;28;01mif\u001b[39;00m fmt \u001b[38;5;241m==\u001b[39m \u001b[38;5;124m'\u001b[39m\u001b[38;5;124msvg\u001b[39m\u001b[38;5;124m'\u001b[39m:\n",
      "File \u001b[0;32m~/miniconda3/lib/python3.11/site-packages/matplotlib/backend_bases.py:2336\u001b[0m, in \u001b[0;36mprint_figure\u001b[0;34m(self, filename, dpi, facecolor, edgecolor, orientation, format, bbox_inches, pad_inches, bbox_extra_artists, backend, **kwargs)\u001b[0m\n\u001b[1;32m   2334\u001b[0m     toolbar\u001b[38;5;241m.\u001b[39mback()\n\u001b[1;32m   2335\u001b[0m \u001b[38;5;66;03m# (default key for forward: 'right' and 'v')\u001b[39;00m\n\u001b[0;32m-> 2336\u001b[0m \u001b[38;5;28;01melif\u001b[39;00m event\u001b[38;5;241m.\u001b[39mkey \u001b[38;5;129;01min\u001b[39;00m forward_keys:\n\u001b[1;32m   2337\u001b[0m     toolbar\u001b[38;5;241m.\u001b[39mforward()\n\u001b[1;32m   2338\u001b[0m \u001b[38;5;66;03m# pan mnemonic (default key 'p')\u001b[39;00m\n",
      "File \u001b[0;32m~/miniconda3/lib/python3.11/site-packages/matplotlib/backend_bases.py:1598\u001b[0m, in \u001b[0;36m_get_renderer\u001b[0;34m(figure, print_method)\u001b[0m\n\u001b[1;32m   1596\u001b[0m \u001b[38;5;28mself\u001b[39m\u001b[38;5;241m.\u001b[39m_fix_ipython_backend2gui()\n\u001b[1;32m   1597\u001b[0m \u001b[38;5;28mself\u001b[39m\u001b[38;5;241m.\u001b[39m_is_idle_drawing \u001b[38;5;241m=\u001b[39m \u001b[38;5;28;01mTrue\u001b[39;00m\n\u001b[0;32m-> 1598\u001b[0m \u001b[38;5;28mself\u001b[39m\u001b[38;5;241m.\u001b[39m_is_saving \u001b[38;5;241m=\u001b[39m \u001b[38;5;28;01mFalse\u001b[39;00m\n\u001b[1;32m   1599\u001b[0m figure\u001b[38;5;241m.\u001b[39mset_canvas(\u001b[38;5;28mself\u001b[39m)\n\u001b[1;32m   1600\u001b[0m \u001b[38;5;28mself\u001b[39m\u001b[38;5;241m.\u001b[39mfigure \u001b[38;5;241m=\u001b[39m figure\n",
      "File \u001b[0;32m~/miniconda3/lib/python3.11/site-packages/matplotlib/backend_bases.py:2232\u001b[0m, in \u001b[0;36m<lambda>\u001b[0;34m(*args, **kwargs)\u001b[0m\n\u001b[1;32m   2212\u001b[0m \u001b[38;5;28;01mdef\u001b[39;00m \u001b[38;5;21mnew_timer\u001b[39m(\u001b[38;5;28mself\u001b[39m, \u001b[38;5;241m*\u001b[39margs, \u001b[38;5;241m*\u001b[39m\u001b[38;5;241m*\u001b[39mkwargs):\n\u001b[1;32m   2213\u001b[0m \u001b[38;5;250m    \u001b[39m\u001b[38;5;124;03m\"\"\"\u001b[39;00m\n\u001b[1;32m   2214\u001b[0m \u001b[38;5;124;03m    Creates a new backend-specific subclass of\u001b[39;00m\n\u001b[1;32m   2215\u001b[0m \u001b[38;5;124;03m    :class:`backend_bases.Timer`. This is useful for getting periodic\u001b[39;00m\n\u001b[1;32m   2216\u001b[0m \u001b[38;5;124;03m    events through the backend's native event loop. Implemented only for\u001b[39;00m\n\u001b[1;32m   2217\u001b[0m \u001b[38;5;124;03m    backends with GUIs.\u001b[39;00m\n\u001b[1;32m   2218\u001b[0m \n\u001b[1;32m   2219\u001b[0m \u001b[38;5;124;03m    Other Parameters\u001b[39;00m\n\u001b[1;32m   2220\u001b[0m \u001b[38;5;124;03m    ----------------\u001b[39;00m\n\u001b[1;32m   2221\u001b[0m \u001b[38;5;124;03m    interval : scalar\u001b[39;00m\n\u001b[1;32m   2222\u001b[0m \u001b[38;5;124;03m        Timer interval in milliseconds\u001b[39;00m\n\u001b[1;32m   2223\u001b[0m \n\u001b[1;32m   2224\u001b[0m \u001b[38;5;124;03m    callbacks : List[Tuple[callable, Tuple, Dict]]\u001b[39;00m\n\u001b[1;32m   2225\u001b[0m \u001b[38;5;124;03m        Sequence of (func, args, kwargs) where ``func(*args, **kwargs)``\u001b[39;00m\n\u001b[1;32m   2226\u001b[0m \u001b[38;5;124;03m        will be executed by the timer every *interval*.\u001b[39;00m\n\u001b[1;32m   2227\u001b[0m \n\u001b[1;32m   2228\u001b[0m \u001b[38;5;124;03m        callbacks which return ``False`` or ``0`` will be removed from the\u001b[39;00m\n\u001b[1;32m   2229\u001b[0m \u001b[38;5;124;03m        timer.\u001b[39;00m\n\u001b[1;32m   2230\u001b[0m \n\u001b[1;32m   2231\u001b[0m \u001b[38;5;124;03m    Examples\u001b[39;00m\n\u001b[0;32m-> 2232\u001b[0m \u001b[38;5;124;03m    --------\u001b[39;00m\n\u001b[1;32m   2233\u001b[0m \n\u001b[1;32m   2234\u001b[0m \u001b[38;5;124;03m    >>> timer = fig.canvas.new_timer(callbacks=[(f1, (1, ), {'a': 3}),])\u001b[39;00m\n\u001b[1;32m   2235\u001b[0m \n\u001b[1;32m   2236\u001b[0m \u001b[38;5;124;03m    \"\"\"\u001b[39;00m\n\u001b[1;32m   2237\u001b[0m     \u001b[38;5;28;01mreturn\u001b[39;00m TimerBase(\u001b[38;5;241m*\u001b[39margs, \u001b[38;5;241m*\u001b[39m\u001b[38;5;241m*\u001b[39mkwargs)\n",
      "File \u001b[0;32m~/miniconda3/lib/python3.11/site-packages/matplotlib/backends/backend_svg.py:1202\u001b[0m, in \u001b[0;36mFigureCanvasSVG.print_svg\u001b[0;34m(self, filename, *args, **kwargs)\u001b[0m\n\u001b[1;32m   1199\u001b[0m     fh \u001b[38;5;241m=\u001b[39m io\u001b[38;5;241m.\u001b[39mTextIOWrapper(fh, \u001b[38;5;124m'\u001b[39m\u001b[38;5;124mutf-8\u001b[39m\u001b[38;5;124m'\u001b[39m)\n\u001b[1;32m   1200\u001b[0m     detach \u001b[38;5;241m=\u001b[39m \u001b[38;5;28;01mTrue\u001b[39;00m\n\u001b[0;32m-> 1202\u001b[0m result \u001b[38;5;241m=\u001b[39m \u001b[38;5;28;43mself\u001b[39;49m\u001b[38;5;241;43m.\u001b[39;49m\u001b[43m_print_svg\u001b[49m\u001b[43m(\u001b[49m\u001b[43mfilename\u001b[49m\u001b[43m,\u001b[49m\u001b[43m \u001b[49m\u001b[43mfh\u001b[49m\u001b[43m,\u001b[49m\u001b[43m \u001b[49m\u001b[38;5;241;43m*\u001b[39;49m\u001b[38;5;241;43m*\u001b[39;49m\u001b[43mkwargs\u001b[49m\u001b[43m)\u001b[49m\n\u001b[1;32m   1204\u001b[0m \u001b[38;5;66;03m# Detach underlying stream from wrapper so that it remains open in\u001b[39;00m\n\u001b[1;32m   1205\u001b[0m \u001b[38;5;66;03m# the caller.\u001b[39;00m\n\u001b[1;32m   1206\u001b[0m \u001b[38;5;28;01mif\u001b[39;00m detach:\n",
      "File \u001b[0;32m~/miniconda3/lib/python3.11/site-packages/matplotlib/backends/backend_svg.py:1224\u001b[0m, in \u001b[0;36mFigureCanvasSVG._print_svg\u001b[0;34m(self, filename, fh, dpi, bbox_inches_restore, **kwargs)\u001b[0m\n\u001b[1;32m   1219\u001b[0m width, height \u001b[38;5;241m=\u001b[39m \u001b[38;5;28mself\u001b[39m\u001b[38;5;241m.\u001b[39mfigure\u001b[38;5;241m.\u001b[39mget_size_inches()\n\u001b[1;32m   1220\u001b[0m w, h \u001b[38;5;241m=\u001b[39m width \u001b[38;5;241m*\u001b[39m \u001b[38;5;241m72\u001b[39m, height \u001b[38;5;241m*\u001b[39m \u001b[38;5;241m72\u001b[39m\n\u001b[1;32m   1222\u001b[0m renderer \u001b[38;5;241m=\u001b[39m MixedModeRenderer(\n\u001b[1;32m   1223\u001b[0m     \u001b[38;5;28mself\u001b[39m\u001b[38;5;241m.\u001b[39mfigure, width, height, dpi,\n\u001b[0;32m-> 1224\u001b[0m     \u001b[43mRendererSVG\u001b[49m\u001b[43m(\u001b[49m\u001b[43mw\u001b[49m\u001b[43m,\u001b[49m\u001b[43m \u001b[49m\u001b[43mh\u001b[49m\u001b[43m,\u001b[49m\u001b[43m \u001b[49m\u001b[43mfh\u001b[49m\u001b[43m,\u001b[49m\u001b[43m \u001b[49m\u001b[43mfilename\u001b[49m\u001b[43m,\u001b[49m\u001b[43m \u001b[49m\u001b[43mdpi\u001b[49m\u001b[43m)\u001b[49m,\n\u001b[1;32m   1225\u001b[0m     bbox_inches_restore\u001b[38;5;241m=\u001b[39mbbox_inches_restore)\n\u001b[1;32m   1227\u001b[0m \u001b[38;5;28mself\u001b[39m\u001b[38;5;241m.\u001b[39mfigure\u001b[38;5;241m.\u001b[39mdraw(renderer)\n\u001b[1;32m   1228\u001b[0m renderer\u001b[38;5;241m.\u001b[39mfinalize()\n",
      "File \u001b[0;32m~/miniconda3/lib/python3.11/site-packages/matplotlib/backends/backend_svg.py:293\u001b[0m, in \u001b[0;36mRendererSVG.__init__\u001b[0;34m(self, width, height, svgwriter, basename, image_dpi)\u001b[0m\n\u001b[1;32m    291\u001b[0m \u001b[38;5;28mself\u001b[39m\u001b[38;5;241m.\u001b[39m_n_gradients \u001b[38;5;241m=\u001b[39m \u001b[38;5;241m0\u001b[39m\n\u001b[1;32m    292\u001b[0m \u001b[38;5;28mself\u001b[39m\u001b[38;5;241m.\u001b[39m_fonts \u001b[38;5;241m=\u001b[39m OrderedDict()\n\u001b[0;32m--> 293\u001b[0m \u001b[38;5;28mself\u001b[39m\u001b[38;5;241m.\u001b[39mmathtext_parser \u001b[38;5;241m=\u001b[39m \u001b[43mMathTextParser\u001b[49m\u001b[43m(\u001b[49m\u001b[38;5;124;43m'\u001b[39;49m\u001b[38;5;124;43mSVG\u001b[39;49m\u001b[38;5;124;43m'\u001b[39;49m\u001b[43m)\u001b[49m\n\u001b[1;32m    295\u001b[0m RendererBase\u001b[38;5;241m.\u001b[39m\u001b[38;5;21m__init__\u001b[39m(\u001b[38;5;28mself\u001b[39m)\n\u001b[1;32m    296\u001b[0m \u001b[38;5;28mself\u001b[39m\u001b[38;5;241m.\u001b[39m_glyph_map \u001b[38;5;241m=\u001b[39m \u001b[38;5;28mdict\u001b[39m()\n",
      "File \u001b[0;32m~/miniconda3/lib/python3.11/site-packages/matplotlib/mathtext.py:206\u001b[0m, in \u001b[0;36m__init__\u001b[0;34m(self, output)\u001b[0m\n\u001b[1;32m    197\u001b[0m \u001b[38;5;28mself\u001b[39m\u001b[38;5;241m.\u001b[39mset_canvas_size(\n\u001b[1;32m    198\u001b[0m     bbox[\u001b[38;5;241m2\u001b[39m] \u001b[38;5;241m-\u001b[39m bbox[\u001b[38;5;241m0\u001b[39m],\n\u001b[1;32m    199\u001b[0m     (bbox[\u001b[38;5;241m3\u001b[39m] \u001b[38;5;241m-\u001b[39m bbox[\u001b[38;5;241m1\u001b[39m]) \u001b[38;5;241m-\u001b[39m orig_depth,\n\u001b[1;32m    200\u001b[0m     (bbox[\u001b[38;5;241m3\u001b[39m] \u001b[38;5;241m-\u001b[39m bbox[\u001b[38;5;241m1\u001b[39m]) \u001b[38;5;241m-\u001b[39m orig_height)\n\u001b[1;32m    201\u001b[0m ship(\u001b[38;5;241m-\u001b[39mbbox[\u001b[38;5;241m0\u001b[39m], \u001b[38;5;241m-\u001b[39mbbox[\u001b[38;5;241m1\u001b[39m], box)\n\u001b[1;32m    202\u001b[0m result \u001b[38;5;241m=\u001b[39m (\u001b[38;5;28mself\u001b[39m\u001b[38;5;241m.\u001b[39mox,\n\u001b[1;32m    203\u001b[0m           \u001b[38;5;28mself\u001b[39m\u001b[38;5;241m.\u001b[39moy,\n\u001b[1;32m    204\u001b[0m           \u001b[38;5;28mself\u001b[39m\u001b[38;5;241m.\u001b[39mwidth,\n\u001b[1;32m    205\u001b[0m           \u001b[38;5;28mself\u001b[39m\u001b[38;5;241m.\u001b[39mheight \u001b[38;5;241m+\u001b[39m \u001b[38;5;28mself\u001b[39m\u001b[38;5;241m.\u001b[39mdepth,\n\u001b[0;32m--> 206\u001b[0m           \u001b[38;5;28mself\u001b[39m\u001b[38;5;241m.\u001b[39mdepth,\n\u001b[1;32m    207\u001b[0m           \u001b[38;5;28mself\u001b[39m\u001b[38;5;241m.\u001b[39mimage,\n\u001b[1;32m    208\u001b[0m           used_characters)\n\u001b[1;32m    209\u001b[0m \u001b[38;5;28mself\u001b[39m\u001b[38;5;241m.\u001b[39mimage \u001b[38;5;241m=\u001b[39m \u001b[38;5;28;01mNone\u001b[39;00m\n\u001b[1;32m    210\u001b[0m \u001b[38;5;28;01mreturn\u001b[39;00m result\n",
      "File \u001b[0;32m~/miniconda3/lib/python3.11/site-packages/matplotlib/_api/__init__.py:192\u001b[0m, in \u001b[0;36mcheck_getitem\u001b[0;34m(_mapping, **kwargs)\u001b[0m\n",
      "\u001b[0;31mValueError\u001b[0m: 'svg' is not a valid value for output; supported values are 'path', 'agg', 'macosx'"
     ]
    },
    {
     "data": {
      "text/plain": [
       "<Figure size 900x150 with 6 Axes>"
      ]
     },
     "metadata": {},
     "output_type": "display_data"
    }
   ],
   "source": [
    "def predict(net, test_iter, n=6): #n은 시각화할 이미지 개수\n",
    "  for X, y in test_iter:\n",
    "    break\n",
    "  trues = d2l.get_fashion_mnist_labels(y)\n",
    "  preds = d2l.get_fashion_mnist_labels(net(X).argmax(axis = 1))\n",
    "  titles = [true + '\\n' + pred for true, pred in zip(trues, preds)]\n",
    "  d2l.show_images(\n",
    "      X[0:n].reshape((n, 28, 28)), 1 , n, titles = titles[0:n])\n",
    "predict(net, test_iter)"
   ]
  },
  {
   "cell_type": "code",
   "execution_count": 48,
   "metadata": {
    "id": "jwQryqM1iKxx"
   },
   "outputs": [],
   "source": [
    "import torch\n",
    "from torch import nn\n",
    "from d2l import torch as d2l"
   ]
  },
  {
   "cell_type": "code",
   "execution_count": 49,
   "metadata": {
    "id": "nKPv6tCAiuki"
   },
   "outputs": [],
   "source": [
    "batch_size = 256\n",
    "train_iter, test_iter = d2l.load_data_fashion_mnist(batch_size)"
   ]
  },
  {
   "cell_type": "code",
   "execution_count": 50,
   "metadata": {
    "colab": {
     "base_uri": "https://localhost:8080/"
    },
    "id": "EDPRRiSui4oh",
    "outputId": "435b624b-d714-44f5-8b5d-2d0a2ad96257"
   },
   "outputs": [
    {
     "data": {
      "text/plain": [
       "Sequential(\n",
       "  (0): Flatten(start_dim=1, end_dim=-1)\n",
       "  (1): Linear(in_features=784, out_features=10, bias=True)\n",
       ")"
      ]
     },
     "execution_count": 50,
     "metadata": {},
     "output_type": "execute_result"
    }
   ],
   "source": [
    "net = nn.Sequential(nn.Flatten(), nn.Linear(784, 10))\n",
    "\n",
    "def init_weights(m):\n",
    "  if type(m) == nn.Linear:\n",
    "    nn.init.normal_(m.weight, std = 0.01)\n",
    "\n",
    "net.apply(init_weights)"
   ]
  },
  {
   "cell_type": "code",
   "execution_count": 51,
   "metadata": {
    "id": "OyhPnQL4jYQc"
   },
   "outputs": [],
   "source": [
    "loss = nn.CrossEntropyLoss(reduction = 'none')"
   ]
  },
  {
   "cell_type": "code",
   "execution_count": 52,
   "metadata": {
    "id": "ZNcmSoOqjil4"
   },
   "outputs": [],
   "source": [
    "trainer = torch.optim.SGD(net.parameters(), lr = 0.1)"
   ]
  },
  {
   "cell_type": "code",
   "execution_count": 53,
   "metadata": {
    "colab": {
     "base_uri": "https://localhost:8080/",
     "height": 261
    },
    "id": "ge2s_Tbwjoyv",
    "outputId": "b2591df4-4325-4981-92ab-502767427d6c"
   },
   "outputs": [],
   "source": [
    "#num_epochs = 10\n",
    "#d2l.train_ch3(net, train_iter, test_iter, loss, num_epochs, trainer)"
   ]
  },
  {
   "cell_type": "markdown",
   "metadata": {
    "id": "-ISBy2jOoEZ-"
   },
   "source": [
    "## 세션 때 배운 코드를 복습해봐요 😀\n",
    "\n",
    "**강의자료 보지않고 빈 칸 채워보기!**"
   ]
  },
  {
   "cell_type": "markdown",
   "metadata": {
    "id": "z-OCeRwE501A"
   },
   "source": [
    "# Numpy"
   ]
  },
  {
   "cell_type": "markdown",
   "metadata": {
    "id": "LInG3TtLpd5f"
   },
   "source": [
    "### data generation"
   ]
  },
  {
   "cell_type": "code",
   "execution_count": null,
   "metadata": {
    "id": "HJFKULjNo1q6"
   },
   "outputs": [],
   "source": [
    "import numpy as np\n",
    "\n",
    "true_b = 1\n",
    "true_w = 2\n",
    "\n",
    "N = 100\n",
    "\n",
    "np.random.seed(42)\n",
    "x = np.random.rand(N,1)  # Uniform\n",
    "epsilon = (0.1 * np.random.randn(N,1))  # standard normal dist  # noise\n",
    "y = ## 빈칸을 채워주세요. ##"
   ]
  },
  {
   "cell_type": "markdown",
   "metadata": {
    "id": "xEh5L8Fwp3w7"
   },
   "source": [
    "### Train-Validation Split"
   ]
  },
  {
   "cell_type": "code",
   "execution_count": null,
   "metadata": {
    "id": "UJHEKRqspwmj"
   },
   "outputs": [],
   "source": [
    "# Shuffles the indices\n",
    "idx = np.arange(N)\n",
    "split_index = int(N * 0.8)\n",
    "\n",
    "train_idx = idx[## 빈칸을 채워주세요. ##]\n",
    "val_idx = idx[## 빈칸을 채워주세요. ##]\n",
    "\n",
    "# Generates train and validation sets\n",
    "x_train, y_train = x[train_idx], y[train_idx]\n",
    "x_val, y_val = x[val_idx], y[val_idx]"
   ]
  },
  {
   "cell_type": "markdown",
   "metadata": {
    "id": "PoIr7k6ox4AG"
   },
   "source": [
    "### Gradient Descent for Linear Regression"
   ]
  },
  {
   "cell_type": "code",
   "execution_count": null,
   "metadata": {
    "id": "aCBAfjBstQuf"
   },
   "outputs": [],
   "source": [
    "# 실행시간을 측정해주는 Decorator 입니다.\n",
    "\n",
    "import time\n",
    "def timer(func):\n",
    "  def wrapper(*args, **kwargs):\n",
    "    start_time = time.time()\n",
    "    result = func(*args, **kwargs)\n",
    "    end_time = time.time()\n",
    "    computation_time = end_time - start_time\n",
    "    print(f\"Execution time of {func.__name__}: {computation_time} seconds\")\n",
    "    return result\n",
    "  return wrapper"
   ]
  },
  {
   "cell_type": "code",
   "execution_count": null,
   "metadata": {
    "id": "Xp67TxhNx3Sb"
   },
   "outputs": [],
   "source": [
    "@timer\n",
    "def train_model_numpy(lr = 0.1, epochs = 1000):\n",
    "  # Initialize parameters\n",
    "  b = np.random.randn(1)\n",
    "  w = np.random.randn(1)\n",
    "\n",
    "  for epoch in range(epochs):\n",
    "    # Loss computation\n",
    "    y_hat = b + w * x_train\n",
    "    error = (y_hat - y_train)\n",
    "    mse_loss = ## 빈칸을 채워주세요. ##\n",
    "\n",
    "    # Gradient computation\n",
    "    b_grad = ## 빈칸을 채워주세요. ## 미분 어떻게 했었죠?ㅎㅎ\n",
    "    w_grad = ## 빈칸을 채워주세요. ##\n",
    "    b = b - lr * b_grad\n",
    "    w = w - lr * w_grad\n",
    "  return b, w\n"
   ]
  },
  {
   "cell_type": "code",
   "execution_count": null,
   "metadata": {
    "colab": {
     "base_uri": "https://localhost:8080/"
    },
    "id": "eHhjWAi94Qkb",
    "outputId": "abba390f-a447-4883-a19d-e078d6a6901f"
   },
   "outputs": [
    {
     "name": "stdout",
     "output_type": "stream",
     "text": [
      "Execution time of train_model_numpy: 0.031105756759643555 seconds\n",
      "b_estimate:[1.02341376], w_estimate:[1.93680725]\n"
     ]
    }
   ],
   "source": [
    "b, w = train_model_numpy()\n",
    "print(\"b_estimate:{}, w_estimate:{}\".format(b,w))"
   ]
  },
  {
   "cell_type": "markdown",
   "metadata": {
    "id": "Cztmazj1534o"
   },
   "source": [
    "# Pytorch"
   ]
  },
  {
   "cell_type": "markdown",
   "metadata": {
    "id": "gBaXz1OL6LPP"
   },
   "source": [
    "### Data Generation"
   ]
  },
  {
   "cell_type": "code",
   "execution_count": null,
   "metadata": {
    "id": "rtyfd4_95zzv"
   },
   "outputs": [],
   "source": [
    "import torch\n",
    "\n",
    "# create tensor at CPU:\n",
    "x_train_tensor = torch.as_tensor(x_train)\n",
    "y_train_tensor = torch.as_tensor(y_train)\n",
    "\n",
    "# create tensor ar GPU:\n",
    "## 빈칸을 채워주세요. ##  # GPU가 현재 연결이 되어있다면 cuda를 콜하겠다. 아니면 cpu 쓰겠다! 하는 코드\n",
    "x_train_tensor = torch.as_tensor(x_train).to(device)\n",
    "y_train_tensor = torch.as_tensor(y_train).to(device)\n"
   ]
  },
  {
   "cell_type": "markdown",
   "metadata": {
    "id": "AO0Yof1p8FUW"
   },
   "source": [
    "### Gradient Descent"
   ]
  },
  {
   "cell_type": "code",
   "execution_count": null,
   "metadata": {
    "id": "rX-WAf4b7ljU"
   },
   "outputs": [],
   "source": [
    "@timer\n",
    "def train_model_torch(lr = 0.1, epochs=1000):\n",
    "  # Initialize parameters\n",
    "  b = torch.randn(1, ## 빈칸을 채워주세요. ##)\n",
    "  w = torch.randn(1, ## 빈칸을 채워주세요. ##)\n",
    "\n",
    "  for epoch in range(epochs):\n",
    "    # Loss computation\n",
    "    y_hat = b + w * x_train_tensor\n",
    "    error = (y_hat - y_train_tensor)\n",
    "    mse_loss = ## 빈칸을 채워주세요. ##\n",
    "    # Gradient computation and descent\n",
    "    mse_loss.backward()\n",
    "    ## 빈칸을 채워주세요. ## # 경사 하강법 할 땐 auto grad 끄고 하는 게 좋죠!\n",
    "      b ## 빈칸을 채워주세요. ##  # in-place operation 써줘야합니다!\n",
    "      w ## 빈칸을 채워주세요. ##\n",
    "    b.## 빈칸을 채워주세요. ## # gradient 초기화 시켜줘야해요. 안 하면 누적합으로 계산하기 때문에!\n",
    "    w.## 빈칸을 채워주세요. ##\n",
    "  return b, w"
   ]
  },
  {
   "cell_type": "code",
   "execution_count": null,
   "metadata": {
    "colab": {
     "base_uri": "https://localhost:8080/"
    },
    "id": "7JfprsWdBAFg",
    "outputId": "bf316a37-a530-4487-ae72-3b3d8d20ddac"
   },
   "outputs": [
    {
     "name": "stdout",
     "output_type": "stream",
     "text": [
      "Execution time of train_model_torch: 0.5386159420013428 seconds\n",
      "b_estimate:tensor([1.0234], device='cuda:0', requires_grad=True), w_estimate:tensor([1.9368], device='cuda:0', requires_grad=True)\n"
     ]
    }
   ],
   "source": [
    "b, w = train_model_torch()\n",
    "print(\"b_estimate:{}, w_estimate:{}\".format(b,w))"
   ]
  },
  {
   "cell_type": "markdown",
   "metadata": {
    "id": "Ju4y0iMOraU6"
   },
   "source": [
    "**optimizer 를 사용해서 gradient descent 를 하는 방법도 있어요!**"
   ]
  },
  {
   "cell_type": "code",
   "execution_count": null,
   "metadata": {
    "id": "dslxhYqC_-f4"
   },
   "outputs": [],
   "source": [
    "import torch.optim as optim\n",
    "import torch.nn as nn\n",
    "\n",
    "@timer\n",
    "def train_model_torch(lr = 0.1, epochs=1000):\n",
    "  # Initialize parameters\n",
    "  b = torch.randn(1, requires_grad = True, dtype = torch.float, device = device)\n",
    "  w = torch.randn(1, requires_grad = True, dtype = torch.float, device = device)\n",
    "  parameters = [b, w]\n",
    "  optimizer = optim.SGD(parameters, lr = lr)\n",
    "  mse_loss = nn.MSELoss()\n",
    "\n",
    "  for epoch in range(epochs):\n",
    "    # Loss computation\n",
    "    y_hat = b + w * x_train_tensor\n",
    "    loss = mse_loss(y_hat, y_train_tensor)\n",
    "    # Gradient computation and descent\n",
    "    loss.backward()\n",
    "    optimizer.step() # 경사하강법 연산, step 한 번을 밟는다!\n",
    "    optimizer.zero_grad()\n",
    "  return b, w"
   ]
  },
  {
   "cell_type": "code",
   "execution_count": null,
   "metadata": {
    "colab": {
     "base_uri": "https://localhost:8080/"
    },
    "id": "7Z8B2wvuFgq2",
    "outputId": "2ce9fe7c-375b-448f-8e39-c9f8f031cc83"
   },
   "outputs": [
    {
     "name": "stdout",
     "output_type": "stream",
     "text": [
      "Execution time of train_model_torch: 0.6350758075714111 seconds\n",
      "b_estimate:tensor([1.0234], device='cuda:0', requires_grad=True), w_estimate:tensor([1.9368], device='cuda:0', requires_grad=True)\n"
     ]
    }
   ],
   "source": [
    "b, w = train_model_torch()\n",
    "print(\"b_estimate:{}, w_estimate:{}\".format(b,w))"
   ]
  }
 ],
 "metadata": {
  "colab": {
   "provenance": []
  },
  "kernelspec": {
   "display_name": "Python 3 (ipykernel)",
   "language": "python",
   "name": "python3"
  },
  "language_info": {
   "codemirror_mode": {
    "name": "ipython",
    "version": 3
   },
   "file_extension": ".py",
   "mimetype": "text/x-python",
   "name": "python",
   "nbconvert_exporter": "python",
   "pygments_lexer": "ipython3",
   "version": "3.11.7"
  },
  "widgets": {
   "application/vnd.jupyter.widget-state+json": {
    "05d449267a8e41fc932c7a0d679dfbac": {
     "model_module": "@jupyter-widgets/controls",
     "model_module_version": "1.5.0",
     "model_name": "DescriptionStyleModel",
     "state": {
      "_model_module": "@jupyter-widgets/controls",
      "_model_module_version": "1.5.0",
      "_model_name": "DescriptionStyleModel",
      "_view_count": null,
      "_view_module": "@jupyter-widgets/base",
      "_view_module_version": "1.2.0",
      "_view_name": "StyleView",
      "description_width": ""
     }
    },
    "09818dd755d641bebe820df0c89e061e": {
     "model_module": "@jupyter-widgets/controls",
     "model_module_version": "1.5.0",
     "model_name": "DescriptionStyleModel",
     "state": {
      "_model_module": "@jupyter-widgets/controls",
      "_model_module_version": "1.5.0",
      "_model_name": "DescriptionStyleModel",
      "_view_count": null,
      "_view_module": "@jupyter-widgets/base",
      "_view_module_version": "1.2.0",
      "_view_name": "StyleView",
      "description_width": ""
     }
    },
    "10138ab0dcc249e080a105f95e8a09c4": {
     "model_module": "@jupyter-widgets/controls",
     "model_module_version": "1.5.0",
     "model_name": "FloatProgressModel",
     "state": {
      "_dom_classes": [],
      "_model_module": "@jupyter-widgets/controls",
      "_model_module_version": "1.5.0",
      "_model_name": "FloatProgressModel",
      "_view_count": null,
      "_view_module": "@jupyter-widgets/controls",
      "_view_module_version": "1.5.0",
      "_view_name": "ProgressView",
      "bar_style": "success",
      "description": "",
      "description_tooltip": null,
      "layout": "IPY_MODEL_6a3aab710f9248fd871b0a444129f654",
      "max": 4422102,
      "min": 0,
      "orientation": "horizontal",
      "style": "IPY_MODEL_7c4fbacb3932459d88ccbf0cd224b7ed",
      "value": 4422102
     }
    },
    "14faa392024249c48de703d1d9ea5683": {
     "model_module": "@jupyter-widgets/controls",
     "model_module_version": "1.5.0",
     "model_name": "ProgressStyleModel",
     "state": {
      "_model_module": "@jupyter-widgets/controls",
      "_model_module_version": "1.5.0",
      "_model_name": "ProgressStyleModel",
      "_view_count": null,
      "_view_module": "@jupyter-widgets/base",
      "_view_module_version": "1.2.0",
      "_view_name": "StyleView",
      "bar_color": null,
      "description_width": ""
     }
    },
    "1e9dda5bfc5f4c13b731d8fe09f78ce5": {
     "model_module": "@jupyter-widgets/base",
     "model_module_version": "1.2.0",
     "model_name": "LayoutModel",
     "state": {
      "_model_module": "@jupyter-widgets/base",
      "_model_module_version": "1.2.0",
      "_model_name": "LayoutModel",
      "_view_count": null,
      "_view_module": "@jupyter-widgets/base",
      "_view_module_version": "1.2.0",
      "_view_name": "LayoutView",
      "align_content": null,
      "align_items": null,
      "align_self": null,
      "border": null,
      "bottom": null,
      "display": null,
      "flex": null,
      "flex_flow": null,
      "grid_area": null,
      "grid_auto_columns": null,
      "grid_auto_flow": null,
      "grid_auto_rows": null,
      "grid_column": null,
      "grid_gap": null,
      "grid_row": null,
      "grid_template_areas": null,
      "grid_template_columns": null,
      "grid_template_rows": null,
      "height": null,
      "justify_content": null,
      "justify_items": null,
      "left": null,
      "margin": null,
      "max_height": null,
      "max_width": null,
      "min_height": null,
      "min_width": null,
      "object_fit": null,
      "object_position": null,
      "order": null,
      "overflow": null,
      "overflow_x": null,
      "overflow_y": null,
      "padding": null,
      "right": null,
      "top": null,
      "visibility": null,
      "width": null
     }
    },
    "1fe1bea694f04f7eb098b082ac7db44c": {
     "model_module": "@jupyter-widgets/controls",
     "model_module_version": "1.5.0",
     "model_name": "HTMLModel",
     "state": {
      "_dom_classes": [],
      "_model_module": "@jupyter-widgets/controls",
      "_model_module_version": "1.5.0",
      "_model_name": "HTMLModel",
      "_view_count": null,
      "_view_module": "@jupyter-widgets/controls",
      "_view_module_version": "1.5.0",
      "_view_name": "HTMLView",
      "description": "",
      "description_tooltip": null,
      "layout": "IPY_MODEL_7a2a869ad9d64a2197b6187f26fefdfb",
      "placeholder": "​",
      "style": "IPY_MODEL_09818dd755d641bebe820df0c89e061e",
      "value": " 26421880/26421880 [00:01&lt;00:00, 26099792.73it/s]"
     }
    },
    "28ecd8e64de540929f5c6c306753d629": {
     "model_module": "@jupyter-widgets/base",
     "model_module_version": "1.2.0",
     "model_name": "LayoutModel",
     "state": {
      "_model_module": "@jupyter-widgets/base",
      "_model_module_version": "1.2.0",
      "_model_name": "LayoutModel",
      "_view_count": null,
      "_view_module": "@jupyter-widgets/base",
      "_view_module_version": "1.2.0",
      "_view_name": "LayoutView",
      "align_content": null,
      "align_items": null,
      "align_self": null,
      "border": null,
      "bottom": null,
      "display": null,
      "flex": null,
      "flex_flow": null,
      "grid_area": null,
      "grid_auto_columns": null,
      "grid_auto_flow": null,
      "grid_auto_rows": null,
      "grid_column": null,
      "grid_gap": null,
      "grid_row": null,
      "grid_template_areas": null,
      "grid_template_columns": null,
      "grid_template_rows": null,
      "height": null,
      "justify_content": null,
      "justify_items": null,
      "left": null,
      "margin": null,
      "max_height": null,
      "max_width": null,
      "min_height": null,
      "min_width": null,
      "object_fit": null,
      "object_position": null,
      "order": null,
      "overflow": null,
      "overflow_x": null,
      "overflow_y": null,
      "padding": null,
      "right": null,
      "top": null,
      "visibility": null,
      "width": null
     }
    },
    "2969695ae5c34df7bdff597e0afd1cdc": {
     "model_module": "@jupyter-widgets/base",
     "model_module_version": "1.2.0",
     "model_name": "LayoutModel",
     "state": {
      "_model_module": "@jupyter-widgets/base",
      "_model_module_version": "1.2.0",
      "_model_name": "LayoutModel",
      "_view_count": null,
      "_view_module": "@jupyter-widgets/base",
      "_view_module_version": "1.2.0",
      "_view_name": "LayoutView",
      "align_content": null,
      "align_items": null,
      "align_self": null,
      "border": null,
      "bottom": null,
      "display": null,
      "flex": null,
      "flex_flow": null,
      "grid_area": null,
      "grid_auto_columns": null,
      "grid_auto_flow": null,
      "grid_auto_rows": null,
      "grid_column": null,
      "grid_gap": null,
      "grid_row": null,
      "grid_template_areas": null,
      "grid_template_columns": null,
      "grid_template_rows": null,
      "height": null,
      "justify_content": null,
      "justify_items": null,
      "left": null,
      "margin": null,
      "max_height": null,
      "max_width": null,
      "min_height": null,
      "min_width": null,
      "object_fit": null,
      "object_position": null,
      "order": null,
      "overflow": null,
      "overflow_x": null,
      "overflow_y": null,
      "padding": null,
      "right": null,
      "top": null,
      "visibility": null,
      "width": null
     }
    },
    "2bf171ffa0454e598a242daf2c401660": {
     "model_module": "@jupyter-widgets/controls",
     "model_module_version": "1.5.0",
     "model_name": "HBoxModel",
     "state": {
      "_dom_classes": [],
      "_model_module": "@jupyter-widgets/controls",
      "_model_module_version": "1.5.0",
      "_model_name": "HBoxModel",
      "_view_count": null,
      "_view_module": "@jupyter-widgets/controls",
      "_view_module_version": "1.5.0",
      "_view_name": "HBoxView",
      "box_style": "",
      "children": [
       "IPY_MODEL_2d0f9883cdb74c719c26f7d5da8e13fa",
       "IPY_MODEL_9d2b16a8aa6643748c74c779f92e57f2",
       "IPY_MODEL_2d97c011ccb74358ba1741310053daf4"
      ],
      "layout": "IPY_MODEL_ab561858f71741b883f202ba6da47465"
     }
    },
    "2d0f9883cdb74c719c26f7d5da8e13fa": {
     "model_module": "@jupyter-widgets/controls",
     "model_module_version": "1.5.0",
     "model_name": "HTMLModel",
     "state": {
      "_dom_classes": [],
      "_model_module": "@jupyter-widgets/controls",
      "_model_module_version": "1.5.0",
      "_model_name": "HTMLModel",
      "_view_count": null,
      "_view_module": "@jupyter-widgets/controls",
      "_view_module_version": "1.5.0",
      "_view_name": "HTMLView",
      "description": "",
      "description_tooltip": null,
      "layout": "IPY_MODEL_5996ab99b9c6474892b73d900b03e342",
      "placeholder": "​",
      "style": "IPY_MODEL_8c6e2536053c4f8592c232d17aad2527",
      "value": "100%"
     }
    },
    "2d97c011ccb74358ba1741310053daf4": {
     "model_module": "@jupyter-widgets/controls",
     "model_module_version": "1.5.0",
     "model_name": "HTMLModel",
     "state": {
      "_dom_classes": [],
      "_model_module": "@jupyter-widgets/controls",
      "_model_module_version": "1.5.0",
      "_model_name": "HTMLModel",
      "_view_count": null,
      "_view_module": "@jupyter-widgets/controls",
      "_view_module_version": "1.5.0",
      "_view_name": "HTMLView",
      "description": "",
      "description_tooltip": null,
      "layout": "IPY_MODEL_28ecd8e64de540929f5c6c306753d629",
      "placeholder": "​",
      "style": "IPY_MODEL_ee9f41cc760344a9b1d5e7ba982cfad1",
      "value": " 5148/5148 [00:00&lt;00:00, 258779.19it/s]"
     }
    },
    "39af13c3ae9447b2ac296b593e47cab8": {
     "model_module": "@jupyter-widgets/controls",
     "model_module_version": "1.5.0",
     "model_name": "ProgressStyleModel",
     "state": {
      "_model_module": "@jupyter-widgets/controls",
      "_model_module_version": "1.5.0",
      "_model_name": "ProgressStyleModel",
      "_view_count": null,
      "_view_module": "@jupyter-widgets/base",
      "_view_module_version": "1.2.0",
      "_view_name": "StyleView",
      "bar_color": null,
      "description_width": ""
     }
    },
    "4c44e5017b4b4f5a864501c6ea4fc6b2": {
     "model_module": "@jupyter-widgets/controls",
     "model_module_version": "1.5.0",
     "model_name": "HTMLModel",
     "state": {
      "_dom_classes": [],
      "_model_module": "@jupyter-widgets/controls",
      "_model_module_version": "1.5.0",
      "_model_name": "HTMLModel",
      "_view_count": null,
      "_view_module": "@jupyter-widgets/controls",
      "_view_module_version": "1.5.0",
      "_view_name": "HTMLView",
      "description": "",
      "description_tooltip": null,
      "layout": "IPY_MODEL_1e9dda5bfc5f4c13b731d8fe09f78ce5",
      "placeholder": "​",
      "style": "IPY_MODEL_53ab9ef92f08494d9f195be0012d3b94",
      "value": "100%"
     }
    },
    "4c53c31744de4043bd144e9945d9d8d1": {
     "model_module": "@jupyter-widgets/controls",
     "model_module_version": "1.5.0",
     "model_name": "DescriptionStyleModel",
     "state": {
      "_model_module": "@jupyter-widgets/controls",
      "_model_module_version": "1.5.0",
      "_model_name": "DescriptionStyleModel",
      "_view_count": null,
      "_view_module": "@jupyter-widgets/base",
      "_view_module_version": "1.2.0",
      "_view_name": "StyleView",
      "description_width": ""
     }
    },
    "4dfcaae76a17407889ce9e71c1c6b7e0": {
     "model_module": "@jupyter-widgets/controls",
     "model_module_version": "1.5.0",
     "model_name": "ProgressStyleModel",
     "state": {
      "_model_module": "@jupyter-widgets/controls",
      "_model_module_version": "1.5.0",
      "_model_name": "ProgressStyleModel",
      "_view_count": null,
      "_view_module": "@jupyter-widgets/base",
      "_view_module_version": "1.2.0",
      "_view_name": "StyleView",
      "bar_color": null,
      "description_width": ""
     }
    },
    "4eeca8dd044a4ef18bc50d41fdf60570": {
     "model_module": "@jupyter-widgets/base",
     "model_module_version": "1.2.0",
     "model_name": "LayoutModel",
     "state": {
      "_model_module": "@jupyter-widgets/base",
      "_model_module_version": "1.2.0",
      "_model_name": "LayoutModel",
      "_view_count": null,
      "_view_module": "@jupyter-widgets/base",
      "_view_module_version": "1.2.0",
      "_view_name": "LayoutView",
      "align_content": null,
      "align_items": null,
      "align_self": null,
      "border": null,
      "bottom": null,
      "display": null,
      "flex": null,
      "flex_flow": null,
      "grid_area": null,
      "grid_auto_columns": null,
      "grid_auto_flow": null,
      "grid_auto_rows": null,
      "grid_column": null,
      "grid_gap": null,
      "grid_row": null,
      "grid_template_areas": null,
      "grid_template_columns": null,
      "grid_template_rows": null,
      "height": null,
      "justify_content": null,
      "justify_items": null,
      "left": null,
      "margin": null,
      "max_height": null,
      "max_width": null,
      "min_height": null,
      "min_width": null,
      "object_fit": null,
      "object_position": null,
      "order": null,
      "overflow": null,
      "overflow_x": null,
      "overflow_y": null,
      "padding": null,
      "right": null,
      "top": null,
      "visibility": null,
      "width": null
     }
    },
    "53ab9ef92f08494d9f195be0012d3b94": {
     "model_module": "@jupyter-widgets/controls",
     "model_module_version": "1.5.0",
     "model_name": "DescriptionStyleModel",
     "state": {
      "_model_module": "@jupyter-widgets/controls",
      "_model_module_version": "1.5.0",
      "_model_name": "DescriptionStyleModel",
      "_view_count": null,
      "_view_module": "@jupyter-widgets/base",
      "_view_module_version": "1.2.0",
      "_view_name": "StyleView",
      "description_width": ""
     }
    },
    "5996ab99b9c6474892b73d900b03e342": {
     "model_module": "@jupyter-widgets/base",
     "model_module_version": "1.2.0",
     "model_name": "LayoutModel",
     "state": {
      "_model_module": "@jupyter-widgets/base",
      "_model_module_version": "1.2.0",
      "_model_name": "LayoutModel",
      "_view_count": null,
      "_view_module": "@jupyter-widgets/base",
      "_view_module_version": "1.2.0",
      "_view_name": "LayoutView",
      "align_content": null,
      "align_items": null,
      "align_self": null,
      "border": null,
      "bottom": null,
      "display": null,
      "flex": null,
      "flex_flow": null,
      "grid_area": null,
      "grid_auto_columns": null,
      "grid_auto_flow": null,
      "grid_auto_rows": null,
      "grid_column": null,
      "grid_gap": null,
      "grid_row": null,
      "grid_template_areas": null,
      "grid_template_columns": null,
      "grid_template_rows": null,
      "height": null,
      "justify_content": null,
      "justify_items": null,
      "left": null,
      "margin": null,
      "max_height": null,
      "max_width": null,
      "min_height": null,
      "min_width": null,
      "object_fit": null,
      "object_position": null,
      "order": null,
      "overflow": null,
      "overflow_x": null,
      "overflow_y": null,
      "padding": null,
      "right": null,
      "top": null,
      "visibility": null,
      "width": null
     }
    },
    "5efd602e44264f39926c449ddaec0db5": {
     "model_module": "@jupyter-widgets/base",
     "model_module_version": "1.2.0",
     "model_name": "LayoutModel",
     "state": {
      "_model_module": "@jupyter-widgets/base",
      "_model_module_version": "1.2.0",
      "_model_name": "LayoutModel",
      "_view_count": null,
      "_view_module": "@jupyter-widgets/base",
      "_view_module_version": "1.2.0",
      "_view_name": "LayoutView",
      "align_content": null,
      "align_items": null,
      "align_self": null,
      "border": null,
      "bottom": null,
      "display": null,
      "flex": null,
      "flex_flow": null,
      "grid_area": null,
      "grid_auto_columns": null,
      "grid_auto_flow": null,
      "grid_auto_rows": null,
      "grid_column": null,
      "grid_gap": null,
      "grid_row": null,
      "grid_template_areas": null,
      "grid_template_columns": null,
      "grid_template_rows": null,
      "height": null,
      "justify_content": null,
      "justify_items": null,
      "left": null,
      "margin": null,
      "max_height": null,
      "max_width": null,
      "min_height": null,
      "min_width": null,
      "object_fit": null,
      "object_position": null,
      "order": null,
      "overflow": null,
      "overflow_x": null,
      "overflow_y": null,
      "padding": null,
      "right": null,
      "top": null,
      "visibility": null,
      "width": null
     }
    },
    "617a611d5d2f4df2ae18a9bf8fbe2e4d": {
     "model_module": "@jupyter-widgets/base",
     "model_module_version": "1.2.0",
     "model_name": "LayoutModel",
     "state": {
      "_model_module": "@jupyter-widgets/base",
      "_model_module_version": "1.2.0",
      "_model_name": "LayoutModel",
      "_view_count": null,
      "_view_module": "@jupyter-widgets/base",
      "_view_module_version": "1.2.0",
      "_view_name": "LayoutView",
      "align_content": null,
      "align_items": null,
      "align_self": null,
      "border": null,
      "bottom": null,
      "display": null,
      "flex": null,
      "flex_flow": null,
      "grid_area": null,
      "grid_auto_columns": null,
      "grid_auto_flow": null,
      "grid_auto_rows": null,
      "grid_column": null,
      "grid_gap": null,
      "grid_row": null,
      "grid_template_areas": null,
      "grid_template_columns": null,
      "grid_template_rows": null,
      "height": null,
      "justify_content": null,
      "justify_items": null,
      "left": null,
      "margin": null,
      "max_height": null,
      "max_width": null,
      "min_height": null,
      "min_width": null,
      "object_fit": null,
      "object_position": null,
      "order": null,
      "overflow": null,
      "overflow_x": null,
      "overflow_y": null,
      "padding": null,
      "right": null,
      "top": null,
      "visibility": null,
      "width": null
     }
    },
    "64e96e5ac68a44978177bddffd9dbbe3": {
     "model_module": "@jupyter-widgets/controls",
     "model_module_version": "1.5.0",
     "model_name": "FloatProgressModel",
     "state": {
      "_dom_classes": [],
      "_model_module": "@jupyter-widgets/controls",
      "_model_module_version": "1.5.0",
      "_model_name": "FloatProgressModel",
      "_view_count": null,
      "_view_module": "@jupyter-widgets/controls",
      "_view_module_version": "1.5.0",
      "_view_name": "ProgressView",
      "bar_style": "success",
      "description": "",
      "description_tooltip": null,
      "layout": "IPY_MODEL_5efd602e44264f39926c449ddaec0db5",
      "max": 26421880,
      "min": 0,
      "orientation": "horizontal",
      "style": "IPY_MODEL_14faa392024249c48de703d1d9ea5683",
      "value": 26421880
     }
    },
    "68219fd12b3a42e698633dbfeac4171b": {
     "model_module": "@jupyter-widgets/base",
     "model_module_version": "1.2.0",
     "model_name": "LayoutModel",
     "state": {
      "_model_module": "@jupyter-widgets/base",
      "_model_module_version": "1.2.0",
      "_model_name": "LayoutModel",
      "_view_count": null,
      "_view_module": "@jupyter-widgets/base",
      "_view_module_version": "1.2.0",
      "_view_name": "LayoutView",
      "align_content": null,
      "align_items": null,
      "align_self": null,
      "border": null,
      "bottom": null,
      "display": null,
      "flex": null,
      "flex_flow": null,
      "grid_area": null,
      "grid_auto_columns": null,
      "grid_auto_flow": null,
      "grid_auto_rows": null,
      "grid_column": null,
      "grid_gap": null,
      "grid_row": null,
      "grid_template_areas": null,
      "grid_template_columns": null,
      "grid_template_rows": null,
      "height": null,
      "justify_content": null,
      "justify_items": null,
      "left": null,
      "margin": null,
      "max_height": null,
      "max_width": null,
      "min_height": null,
      "min_width": null,
      "object_fit": null,
      "object_position": null,
      "order": null,
      "overflow": null,
      "overflow_x": null,
      "overflow_y": null,
      "padding": null,
      "right": null,
      "top": null,
      "visibility": null,
      "width": null
     }
    },
    "6a3aab710f9248fd871b0a444129f654": {
     "model_module": "@jupyter-widgets/base",
     "model_module_version": "1.2.0",
     "model_name": "LayoutModel",
     "state": {
      "_model_module": "@jupyter-widgets/base",
      "_model_module_version": "1.2.0",
      "_model_name": "LayoutModel",
      "_view_count": null,
      "_view_module": "@jupyter-widgets/base",
      "_view_module_version": "1.2.0",
      "_view_name": "LayoutView",
      "align_content": null,
      "align_items": null,
      "align_self": null,
      "border": null,
      "bottom": null,
      "display": null,
      "flex": null,
      "flex_flow": null,
      "grid_area": null,
      "grid_auto_columns": null,
      "grid_auto_flow": null,
      "grid_auto_rows": null,
      "grid_column": null,
      "grid_gap": null,
      "grid_row": null,
      "grid_template_areas": null,
      "grid_template_columns": null,
      "grid_template_rows": null,
      "height": null,
      "justify_content": null,
      "justify_items": null,
      "left": null,
      "margin": null,
      "max_height": null,
      "max_width": null,
      "min_height": null,
      "min_width": null,
      "object_fit": null,
      "object_position": null,
      "order": null,
      "overflow": null,
      "overflow_x": null,
      "overflow_y": null,
      "padding": null,
      "right": null,
      "top": null,
      "visibility": null,
      "width": null
     }
    },
    "70c48e35d6fa4e64865f1362ee8402ee": {
     "model_module": "@jupyter-widgets/base",
     "model_module_version": "1.2.0",
     "model_name": "LayoutModel",
     "state": {
      "_model_module": "@jupyter-widgets/base",
      "_model_module_version": "1.2.0",
      "_model_name": "LayoutModel",
      "_view_count": null,
      "_view_module": "@jupyter-widgets/base",
      "_view_module_version": "1.2.0",
      "_view_name": "LayoutView",
      "align_content": null,
      "align_items": null,
      "align_self": null,
      "border": null,
      "bottom": null,
      "display": null,
      "flex": null,
      "flex_flow": null,
      "grid_area": null,
      "grid_auto_columns": null,
      "grid_auto_flow": null,
      "grid_auto_rows": null,
      "grid_column": null,
      "grid_gap": null,
      "grid_row": null,
      "grid_template_areas": null,
      "grid_template_columns": null,
      "grid_template_rows": null,
      "height": null,
      "justify_content": null,
      "justify_items": null,
      "left": null,
      "margin": null,
      "max_height": null,
      "max_width": null,
      "min_height": null,
      "min_width": null,
      "object_fit": null,
      "object_position": null,
      "order": null,
      "overflow": null,
      "overflow_x": null,
      "overflow_y": null,
      "padding": null,
      "right": null,
      "top": null,
      "visibility": null,
      "width": null
     }
    },
    "77747687baf541a0b68b4402c4edb18f": {
     "model_module": "@jupyter-widgets/controls",
     "model_module_version": "1.5.0",
     "model_name": "FloatProgressModel",
     "state": {
      "_dom_classes": [],
      "_model_module": "@jupyter-widgets/controls",
      "_model_module_version": "1.5.0",
      "_model_name": "FloatProgressModel",
      "_view_count": null,
      "_view_module": "@jupyter-widgets/controls",
      "_view_module_version": "1.5.0",
      "_view_name": "ProgressView",
      "bar_style": "success",
      "description": "",
      "description_tooltip": null,
      "layout": "IPY_MODEL_8d67a026766d40de96332318b6c1d543",
      "max": 29515,
      "min": 0,
      "orientation": "horizontal",
      "style": "IPY_MODEL_39af13c3ae9447b2ac296b593e47cab8",
      "value": 29515
     }
    },
    "78922f851b564c82a0526d8e3311ee01": {
     "model_module": "@jupyter-widgets/controls",
     "model_module_version": "1.5.0",
     "model_name": "DescriptionStyleModel",
     "state": {
      "_model_module": "@jupyter-widgets/controls",
      "_model_module_version": "1.5.0",
      "_model_name": "DescriptionStyleModel",
      "_view_count": null,
      "_view_module": "@jupyter-widgets/base",
      "_view_module_version": "1.2.0",
      "_view_name": "StyleView",
      "description_width": ""
     }
    },
    "7a2a869ad9d64a2197b6187f26fefdfb": {
     "model_module": "@jupyter-widgets/base",
     "model_module_version": "1.2.0",
     "model_name": "LayoutModel",
     "state": {
      "_model_module": "@jupyter-widgets/base",
      "_model_module_version": "1.2.0",
      "_model_name": "LayoutModel",
      "_view_count": null,
      "_view_module": "@jupyter-widgets/base",
      "_view_module_version": "1.2.0",
      "_view_name": "LayoutView",
      "align_content": null,
      "align_items": null,
      "align_self": null,
      "border": null,
      "bottom": null,
      "display": null,
      "flex": null,
      "flex_flow": null,
      "grid_area": null,
      "grid_auto_columns": null,
      "grid_auto_flow": null,
      "grid_auto_rows": null,
      "grid_column": null,
      "grid_gap": null,
      "grid_row": null,
      "grid_template_areas": null,
      "grid_template_columns": null,
      "grid_template_rows": null,
      "height": null,
      "justify_content": null,
      "justify_items": null,
      "left": null,
      "margin": null,
      "max_height": null,
      "max_width": null,
      "min_height": null,
      "min_width": null,
      "object_fit": null,
      "object_position": null,
      "order": null,
      "overflow": null,
      "overflow_x": null,
      "overflow_y": null,
      "padding": null,
      "right": null,
      "top": null,
      "visibility": null,
      "width": null
     }
    },
    "7c4fbacb3932459d88ccbf0cd224b7ed": {
     "model_module": "@jupyter-widgets/controls",
     "model_module_version": "1.5.0",
     "model_name": "ProgressStyleModel",
     "state": {
      "_model_module": "@jupyter-widgets/controls",
      "_model_module_version": "1.5.0",
      "_model_name": "ProgressStyleModel",
      "_view_count": null,
      "_view_module": "@jupyter-widgets/base",
      "_view_module_version": "1.2.0",
      "_view_name": "StyleView",
      "bar_color": null,
      "description_width": ""
     }
    },
    "83481902669f411899abbcca7419ac11": {
     "model_module": "@jupyter-widgets/controls",
     "model_module_version": "1.5.0",
     "model_name": "HTMLModel",
     "state": {
      "_dom_classes": [],
      "_model_module": "@jupyter-widgets/controls",
      "_model_module_version": "1.5.0",
      "_model_name": "HTMLModel",
      "_view_count": null,
      "_view_module": "@jupyter-widgets/controls",
      "_view_module_version": "1.5.0",
      "_view_name": "HTMLView",
      "description": "",
      "description_tooltip": null,
      "layout": "IPY_MODEL_b621110e5f7647f984b3f83976ff3855",
      "placeholder": "​",
      "style": "IPY_MODEL_05d449267a8e41fc932c7a0d679dfbac",
      "value": "100%"
     }
    },
    "8b88ae0605984f97a7ae093af1498424": {
     "model_module": "@jupyter-widgets/controls",
     "model_module_version": "1.5.0",
     "model_name": "DescriptionStyleModel",
     "state": {
      "_model_module": "@jupyter-widgets/controls",
      "_model_module_version": "1.5.0",
      "_model_name": "DescriptionStyleModel",
      "_view_count": null,
      "_view_module": "@jupyter-widgets/base",
      "_view_module_version": "1.2.0",
      "_view_name": "StyleView",
      "description_width": ""
     }
    },
    "8c6e2536053c4f8592c232d17aad2527": {
     "model_module": "@jupyter-widgets/controls",
     "model_module_version": "1.5.0",
     "model_name": "DescriptionStyleModel",
     "state": {
      "_model_module": "@jupyter-widgets/controls",
      "_model_module_version": "1.5.0",
      "_model_name": "DescriptionStyleModel",
      "_view_count": null,
      "_view_module": "@jupyter-widgets/base",
      "_view_module_version": "1.2.0",
      "_view_name": "StyleView",
      "description_width": ""
     }
    },
    "8d67a026766d40de96332318b6c1d543": {
     "model_module": "@jupyter-widgets/base",
     "model_module_version": "1.2.0",
     "model_name": "LayoutModel",
     "state": {
      "_model_module": "@jupyter-widgets/base",
      "_model_module_version": "1.2.0",
      "_model_name": "LayoutModel",
      "_view_count": null,
      "_view_module": "@jupyter-widgets/base",
      "_view_module_version": "1.2.0",
      "_view_name": "LayoutView",
      "align_content": null,
      "align_items": null,
      "align_self": null,
      "border": null,
      "bottom": null,
      "display": null,
      "flex": null,
      "flex_flow": null,
      "grid_area": null,
      "grid_auto_columns": null,
      "grid_auto_flow": null,
      "grid_auto_rows": null,
      "grid_column": null,
      "grid_gap": null,
      "grid_row": null,
      "grid_template_areas": null,
      "grid_template_columns": null,
      "grid_template_rows": null,
      "height": null,
      "justify_content": null,
      "justify_items": null,
      "left": null,
      "margin": null,
      "max_height": null,
      "max_width": null,
      "min_height": null,
      "min_width": null,
      "object_fit": null,
      "object_position": null,
      "order": null,
      "overflow": null,
      "overflow_x": null,
      "overflow_y": null,
      "padding": null,
      "right": null,
      "top": null,
      "visibility": null,
      "width": null
     }
    },
    "99ee76581e674e0ea27594c12b7af843": {
     "model_module": "@jupyter-widgets/controls",
     "model_module_version": "1.5.0",
     "model_name": "HTMLModel",
     "state": {
      "_dom_classes": [],
      "_model_module": "@jupyter-widgets/controls",
      "_model_module_version": "1.5.0",
      "_model_name": "HTMLModel",
      "_view_count": null,
      "_view_module": "@jupyter-widgets/controls",
      "_view_module_version": "1.5.0",
      "_view_name": "HTMLView",
      "description": "",
      "description_tooltip": null,
      "layout": "IPY_MODEL_2969695ae5c34df7bdff597e0afd1cdc",
      "placeholder": "​",
      "style": "IPY_MODEL_78922f851b564c82a0526d8e3311ee01",
      "value": " 4422102/4422102 [00:00&lt;00:00, 6241822.25it/s]"
     }
    },
    "9d2b16a8aa6643748c74c779f92e57f2": {
     "model_module": "@jupyter-widgets/controls",
     "model_module_version": "1.5.0",
     "model_name": "FloatProgressModel",
     "state": {
      "_dom_classes": [],
      "_model_module": "@jupyter-widgets/controls",
      "_model_module_version": "1.5.0",
      "_model_name": "FloatProgressModel",
      "_view_count": null,
      "_view_module": "@jupyter-widgets/controls",
      "_view_module_version": "1.5.0",
      "_view_name": "ProgressView",
      "bar_style": "success",
      "description": "",
      "description_tooltip": null,
      "layout": "IPY_MODEL_68219fd12b3a42e698633dbfeac4171b",
      "max": 5148,
      "min": 0,
      "orientation": "horizontal",
      "style": "IPY_MODEL_4dfcaae76a17407889ce9e71c1c6b7e0",
      "value": 5148
     }
    },
    "ab561858f71741b883f202ba6da47465": {
     "model_module": "@jupyter-widgets/base",
     "model_module_version": "1.2.0",
     "model_name": "LayoutModel",
     "state": {
      "_model_module": "@jupyter-widgets/base",
      "_model_module_version": "1.2.0",
      "_model_name": "LayoutModel",
      "_view_count": null,
      "_view_module": "@jupyter-widgets/base",
      "_view_module_version": "1.2.0",
      "_view_name": "LayoutView",
      "align_content": null,
      "align_items": null,
      "align_self": null,
      "border": null,
      "bottom": null,
      "display": null,
      "flex": null,
      "flex_flow": null,
      "grid_area": null,
      "grid_auto_columns": null,
      "grid_auto_flow": null,
      "grid_auto_rows": null,
      "grid_column": null,
      "grid_gap": null,
      "grid_row": null,
      "grid_template_areas": null,
      "grid_template_columns": null,
      "grid_template_rows": null,
      "height": null,
      "justify_content": null,
      "justify_items": null,
      "left": null,
      "margin": null,
      "max_height": null,
      "max_width": null,
      "min_height": null,
      "min_width": null,
      "object_fit": null,
      "object_position": null,
      "order": null,
      "overflow": null,
      "overflow_x": null,
      "overflow_y": null,
      "padding": null,
      "right": null,
      "top": null,
      "visibility": null,
      "width": null
     }
    },
    "b621110e5f7647f984b3f83976ff3855": {
     "model_module": "@jupyter-widgets/base",
     "model_module_version": "1.2.0",
     "model_name": "LayoutModel",
     "state": {
      "_model_module": "@jupyter-widgets/base",
      "_model_module_version": "1.2.0",
      "_model_name": "LayoutModel",
      "_view_count": null,
      "_view_module": "@jupyter-widgets/base",
      "_view_module_version": "1.2.0",
      "_view_name": "LayoutView",
      "align_content": null,
      "align_items": null,
      "align_self": null,
      "border": null,
      "bottom": null,
      "display": null,
      "flex": null,
      "flex_flow": null,
      "grid_area": null,
      "grid_auto_columns": null,
      "grid_auto_flow": null,
      "grid_auto_rows": null,
      "grid_column": null,
      "grid_gap": null,
      "grid_row": null,
      "grid_template_areas": null,
      "grid_template_columns": null,
      "grid_template_rows": null,
      "height": null,
      "justify_content": null,
      "justify_items": null,
      "left": null,
      "margin": null,
      "max_height": null,
      "max_width": null,
      "min_height": null,
      "min_width": null,
      "object_fit": null,
      "object_position": null,
      "order": null,
      "overflow": null,
      "overflow_x": null,
      "overflow_y": null,
      "padding": null,
      "right": null,
      "top": null,
      "visibility": null,
      "width": null
     }
    },
    "bfff6c039a1e4b3db21454ffc2e3e61f": {
     "model_module": "@jupyter-widgets/controls",
     "model_module_version": "1.5.0",
     "model_name": "HBoxModel",
     "state": {
      "_dom_classes": [],
      "_model_module": "@jupyter-widgets/controls",
      "_model_module_version": "1.5.0",
      "_model_name": "HBoxModel",
      "_view_count": null,
      "_view_module": "@jupyter-widgets/controls",
      "_view_module_version": "1.5.0",
      "_view_name": "HBoxView",
      "box_style": "",
      "children": [
       "IPY_MODEL_dd1f7b5b216a4617b6e1acc6bebe88b4",
       "IPY_MODEL_77747687baf541a0b68b4402c4edb18f",
       "IPY_MODEL_cf8b679334e94c96b7dd47c7c1f29a96"
      ],
      "layout": "IPY_MODEL_70c48e35d6fa4e64865f1362ee8402ee"
     }
    },
    "c40fb057632649fdb53ab521cd9c467b": {
     "model_module": "@jupyter-widgets/base",
     "model_module_version": "1.2.0",
     "model_name": "LayoutModel",
     "state": {
      "_model_module": "@jupyter-widgets/base",
      "_model_module_version": "1.2.0",
      "_model_name": "LayoutModel",
      "_view_count": null,
      "_view_module": "@jupyter-widgets/base",
      "_view_module_version": "1.2.0",
      "_view_name": "LayoutView",
      "align_content": null,
      "align_items": null,
      "align_self": null,
      "border": null,
      "bottom": null,
      "display": null,
      "flex": null,
      "flex_flow": null,
      "grid_area": null,
      "grid_auto_columns": null,
      "grid_auto_flow": null,
      "grid_auto_rows": null,
      "grid_column": null,
      "grid_gap": null,
      "grid_row": null,
      "grid_template_areas": null,
      "grid_template_columns": null,
      "grid_template_rows": null,
      "height": null,
      "justify_content": null,
      "justify_items": null,
      "left": null,
      "margin": null,
      "max_height": null,
      "max_width": null,
      "min_height": null,
      "min_width": null,
      "object_fit": null,
      "object_position": null,
      "order": null,
      "overflow": null,
      "overflow_x": null,
      "overflow_y": null,
      "padding": null,
      "right": null,
      "top": null,
      "visibility": null,
      "width": null
     }
    },
    "c7ffd3f3dcdf47ae99510d84387584b2": {
     "model_module": "@jupyter-widgets/base",
     "model_module_version": "1.2.0",
     "model_name": "LayoutModel",
     "state": {
      "_model_module": "@jupyter-widgets/base",
      "_model_module_version": "1.2.0",
      "_model_name": "LayoutModel",
      "_view_count": null,
      "_view_module": "@jupyter-widgets/base",
      "_view_module_version": "1.2.0",
      "_view_name": "LayoutView",
      "align_content": null,
      "align_items": null,
      "align_self": null,
      "border": null,
      "bottom": null,
      "display": null,
      "flex": null,
      "flex_flow": null,
      "grid_area": null,
      "grid_auto_columns": null,
      "grid_auto_flow": null,
      "grid_auto_rows": null,
      "grid_column": null,
      "grid_gap": null,
      "grid_row": null,
      "grid_template_areas": null,
      "grid_template_columns": null,
      "grid_template_rows": null,
      "height": null,
      "justify_content": null,
      "justify_items": null,
      "left": null,
      "margin": null,
      "max_height": null,
      "max_width": null,
      "min_height": null,
      "min_width": null,
      "object_fit": null,
      "object_position": null,
      "order": null,
      "overflow": null,
      "overflow_x": null,
      "overflow_y": null,
      "padding": null,
      "right": null,
      "top": null,
      "visibility": null,
      "width": null
     }
    },
    "cf8b679334e94c96b7dd47c7c1f29a96": {
     "model_module": "@jupyter-widgets/controls",
     "model_module_version": "1.5.0",
     "model_name": "HTMLModel",
     "state": {
      "_dom_classes": [],
      "_model_module": "@jupyter-widgets/controls",
      "_model_module_version": "1.5.0",
      "_model_name": "HTMLModel",
      "_view_count": null,
      "_view_module": "@jupyter-widgets/controls",
      "_view_module_version": "1.5.0",
      "_view_name": "HTMLView",
      "description": "",
      "description_tooltip": null,
      "layout": "IPY_MODEL_4eeca8dd044a4ef18bc50d41fdf60570",
      "placeholder": "​",
      "style": "IPY_MODEL_8b88ae0605984f97a7ae093af1498424",
      "value": " 29515/29515 [00:00&lt;00:00, 283875.27it/s]"
     }
    },
    "dd1f7b5b216a4617b6e1acc6bebe88b4": {
     "model_module": "@jupyter-widgets/controls",
     "model_module_version": "1.5.0",
     "model_name": "HTMLModel",
     "state": {
      "_dom_classes": [],
      "_model_module": "@jupyter-widgets/controls",
      "_model_module_version": "1.5.0",
      "_model_name": "HTMLModel",
      "_view_count": null,
      "_view_module": "@jupyter-widgets/controls",
      "_view_module_version": "1.5.0",
      "_view_name": "HTMLView",
      "description": "",
      "description_tooltip": null,
      "layout": "IPY_MODEL_c40fb057632649fdb53ab521cd9c467b",
      "placeholder": "​",
      "style": "IPY_MODEL_4c53c31744de4043bd144e9945d9d8d1",
      "value": "100%"
     }
    },
    "e28ee90dc0cc463c801ab57cf3533d27": {
     "model_module": "@jupyter-widgets/controls",
     "model_module_version": "1.5.0",
     "model_name": "HBoxModel",
     "state": {
      "_dom_classes": [],
      "_model_module": "@jupyter-widgets/controls",
      "_model_module_version": "1.5.0",
      "_model_name": "HBoxModel",
      "_view_count": null,
      "_view_module": "@jupyter-widgets/controls",
      "_view_module_version": "1.5.0",
      "_view_name": "HBoxView",
      "box_style": "",
      "children": [
       "IPY_MODEL_4c44e5017b4b4f5a864501c6ea4fc6b2",
       "IPY_MODEL_10138ab0dcc249e080a105f95e8a09c4",
       "IPY_MODEL_99ee76581e674e0ea27594c12b7af843"
      ],
      "layout": "IPY_MODEL_617a611d5d2f4df2ae18a9bf8fbe2e4d"
     }
    },
    "ee9f41cc760344a9b1d5e7ba982cfad1": {
     "model_module": "@jupyter-widgets/controls",
     "model_module_version": "1.5.0",
     "model_name": "DescriptionStyleModel",
     "state": {
      "_model_module": "@jupyter-widgets/controls",
      "_model_module_version": "1.5.0",
      "_model_name": "DescriptionStyleModel",
      "_view_count": null,
      "_view_module": "@jupyter-widgets/base",
      "_view_module_version": "1.2.0",
      "_view_name": "StyleView",
      "description_width": ""
     }
    },
    "f2085a4b4390419f864d503a6b0a1d34": {
     "model_module": "@jupyter-widgets/controls",
     "model_module_version": "1.5.0",
     "model_name": "HBoxModel",
     "state": {
      "_dom_classes": [],
      "_model_module": "@jupyter-widgets/controls",
      "_model_module_version": "1.5.0",
      "_model_name": "HBoxModel",
      "_view_count": null,
      "_view_module": "@jupyter-widgets/controls",
      "_view_module_version": "1.5.0",
      "_view_name": "HBoxView",
      "box_style": "",
      "children": [
       "IPY_MODEL_83481902669f411899abbcca7419ac11",
       "IPY_MODEL_64e96e5ac68a44978177bddffd9dbbe3",
       "IPY_MODEL_1fe1bea694f04f7eb098b082ac7db44c"
      ],
      "layout": "IPY_MODEL_c7ffd3f3dcdf47ae99510d84387584b2"
     }
    }
   }
  }
 },
 "nbformat": 4,
 "nbformat_minor": 4
}
